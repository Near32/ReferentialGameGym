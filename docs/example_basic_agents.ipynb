{
 "cells": [
  {
   "cell_type": "code",
   "execution_count": 1,
   "metadata": {},
   "outputs": [],
   "source": [
    "import ReferentialGym\n",
    "\n",
    "import torch\n",
    "import torchvision\n",
    "import torchvision.transforms as T "
   ]
  },
  {
   "cell_type": "markdown",
   "metadata": {},
   "source": [
    "# Hyperparameters:"
   ]
  },
  {
   "cell_type": "code",
   "execution_count": 23,
   "metadata": {},
   "outputs": [],
   "source": [
    "rg_config = {\n",
    "    \"observability\":            \"full\",\n",
    "    \"max_sentence_length\":      10,\n",
    "    \"nbr_communication_round\":  1,\n",
    "    \"nbr_distractors\":          127,\n",
    "    \"distractor_sampling\":      \"uniform\",\n",
    "    \"descriptive\":              False,\n",
    "    \"object_centric\":           False,\n",
    "    \"nbr_stimulus\":             1,\n",
    "\n",
    "    \"graphtype\":                'straight_through_gumbel_softmax', #'reinforce'/'gumbel_softmax'/'straight_through_gumbel_softmax' \n",
    "    \"tau\":                      0.2,\n",
    "    \"vocab_size\":               20,\n",
    "\n",
    "    \"cultural_pressure_period\": 2,\n",
    "    \"cultural_substrate_size\":  5,\n",
    "    \n",
    "    \"batch_size\":               128,\n",
    "    \"dataloader_num_worker\":    8,\n",
    "    \n",
    "    \"learning_rate\":            1e-3,\n",
    "    \"adam_eps\":                 1e-5,\n",
    "    \"gradient_clip\":            5,\n",
    "\n",
    "    \"use_cuda\":                 True,\n",
    "}"
   ]
  },
  {
   "cell_type": "markdown",
   "metadata": {},
   "source": [
    "# Agent Configuration:"
   ]
  },
  {
   "cell_type": "code",
   "execution_count": 3,
   "metadata": {},
   "outputs": [],
   "source": [
    "speaker_config = dict()\n",
    "speaker_config['nbr_distractors'] = 0 if rg_config['observability'] == \"partial\" else rg_config['nbr_distractors']\n",
    "speaker_config['nbr_stimulus'] = rg_config['nbr_stimulus']\n",
    "\n",
    "# Assuming CNN task:\n",
    "#speaker_config['observation_resize_dim'] = 64\n",
    "# Assuming FC task:\n",
    "#speaker_config['preprocess_function'] = 'PreprocessFunction'\n",
    "\n",
    "# Recurrent Convolutional Architecture:\n",
    "speaker_config['cnn_encoder_channels'] = [32, 32, 64]\n",
    "speaker_config['cnn_encoder_kernels'] = [6, 4, 3]\n",
    "speaker_config['cnn_encoder_strides'] = [6, 2, 1]\n",
    "speaker_config['cnn_encoder_paddings'] = [0, 1, 1]\n",
    "speaker_config['cnn_encoder_feature_dim'] = 512\n",
    "speaker_config['cnn_encoder_mini_batch_size'] = 128\n",
    "speaker_config['temporal_encoder_nbr_hidden_units'] = 512\n",
    "speaker_config['temporal_encoder_nbr_rnn_layers'] = 1\n",
    "speaker_config['temporal_encoder_mini_batch_size'] = 128\n",
    "speaker_config['symbol_processing_nbr_hidden_units'] = 512\n",
    "speaker_config['symbol_processing_nbr_rnn_layers'] = 2\n",
    "\n",
    "import copy\n",
    "listener_config = copy.deepcopy(speaker_config)\n",
    "listener_config['nbr_distractors'] = rg_config['nbr_distractors']"
   ]
  },
  {
   "cell_type": "markdown",
   "metadata": {},
   "source": [
    "# Basic Agents"
   ]
  },
  {
   "cell_type": "markdown",
   "metadata": {},
   "source": [
    "## Basic Speaker:"
   ]
  },
  {
   "cell_type": "code",
   "execution_count": 4,
   "metadata": {},
   "outputs": [],
   "source": [
    "from ReferentialGym.agents import BasicCNNSpeaker"
   ]
  },
  {
   "cell_type": "code",
   "execution_count": 5,
   "metadata": {},
   "outputs": [],
   "source": [
    "batch_size = 4\n",
    "nbr_distractors = speaker_config['nbr_distractors']\n",
    "nbr_stimulus = speaker_config['nbr_stimulus']\n",
    "obs_shape = [nbr_distractors+1,nbr_stimulus,1,28,28]\n",
    "feature_dim = 512\n",
    "vocab_size = rg_config['vocab_size']\n",
    "max_sentence_length = rg_config['max_sentence_length']\n",
    "\n",
    "bspeaker = BasicCNNSpeaker(kwargs=speaker_config, \n",
    "                              obs_shape=obs_shape, \n",
    "                              feature_dim=feature_dim, \n",
    "                              vocab_size=vocab_size, \n",
    "                              max_sentence_length=max_sentence_length)"
   ]
  },
  {
   "cell_type": "code",
   "execution_count": 6,
   "metadata": {},
   "outputs": [
    {
     "data": {
      "text/plain": [
       "\"\\nstimuli = torch.zeros((batch_size,nbr_distractors+1,nbr_stimulus,1,28,28))\\nst_size = stimuli.size()\\nprint(st_size)\\ny_logits, y_one_hot = bspeaker(stimuli, multi_round=True)\\nprint(y_logits.size())\\n\\nnext_y_logits, next_y_one_hot = bspeaker(stimuli, \\n                                         sentences=y_one_hot, \\n                                         graphtype='straight_through_gumbel_softmax', \\n                                         multi_round=True)\\nprint(next_y_logits.size())\\n\""
      ]
     },
     "execution_count": 6,
     "metadata": {},
     "output_type": "execute_result"
    }
   ],
   "source": [
    "'''\n",
    "stimuli = torch.zeros((batch_size,nbr_distractors+1,nbr_stimulus,1,28,28))\n",
    "st_size = stimuli.size()\n",
    "print(st_size)\n",
    "y_logits, y_one_hot = bspeaker(stimuli, multi_round=True)\n",
    "print(y_logits.size())\n",
    "\n",
    "next_y_logits, next_y_one_hot = bspeaker(stimuli, \n",
    "                                         sentences=y_one_hot, \n",
    "                                         graphtype='straight_through_gumbel_softmax', \n",
    "                                         multi_round=True)\n",
    "print(next_y_logits.size())\n",
    "'''"
   ]
  },
  {
   "cell_type": "markdown",
   "metadata": {},
   "source": [
    "## Basic Listener:"
   ]
  },
  {
   "cell_type": "code",
   "execution_count": 7,
   "metadata": {},
   "outputs": [],
   "source": [
    "from ReferentialGym.agents import BasicCNNListener"
   ]
  },
  {
   "cell_type": "code",
   "execution_count": 8,
   "metadata": {},
   "outputs": [],
   "source": [
    "batch_size = 4\n",
    "nbr_distractors = listener_config['nbr_distractors']\n",
    "nbr_stimulus = listener_config['nbr_stimulus']\n",
    "obs_shape = [nbr_distractors+1,nbr_stimulus,1,28,28]\n",
    "feature_dim = 512\n",
    "vocab_size = rg_config['vocab_size']\n",
    "max_sentence_length = rg_config['max_sentence_length']\n",
    "\n",
    "blistener = BasicCNNListener(kwargs=listener_config, \n",
    "                              obs_shape=obs_shape, \n",
    "                              feature_dim=feature_dim, \n",
    "                              vocab_size=vocab_size, \n",
    "                              max_sentence_length=max_sentence_length)"
   ]
  },
  {
   "cell_type": "code",
   "execution_count": 9,
   "metadata": {},
   "outputs": [
    {
     "data": {
      "text/plain": [
       "\"\\nstimuli = torch.zeros((batch_size,nbr_distractors+1,nbr_stimulus,1,28,28))\\nst_size = stimuli.size()\\nprint(st_size)\\n#y_logits, y_one_hot = bspeaker(stimuli)\\nprint(y_logits.size())\\ndecision_logits, next_sentences_logits, next_sentences = blistener(sentences=y_logits, \\n                                                                   stimuli=stimuli, \\n                                                                   graphtype='straight_through_gumbel_softmax',\\n                                                                   multi_round=True)\\nprint(decision_logits)\\nprint(next_sentences.size())\\n\""
      ]
     },
     "execution_count": 9,
     "metadata": {},
     "output_type": "execute_result"
    }
   ],
   "source": [
    "'''\n",
    "stimuli = torch.zeros((batch_size,nbr_distractors+1,nbr_stimulus,1,28,28))\n",
    "st_size = stimuli.size()\n",
    "print(st_size)\n",
    "#y_logits, y_one_hot = bspeaker(stimuli)\n",
    "print(y_logits.size())\n",
    "decision_logits, next_sentences_logits, next_sentences = blistener(sentences=y_logits, \n",
    "                                                                   stimuli=stimuli, \n",
    "                                                                   graphtype='straight_through_gumbel_softmax',\n",
    "                                                                   multi_round=True)\n",
    "print(decision_logits)\n",
    "print(next_sentences.size())\n",
    "'''"
   ]
  },
  {
   "cell_type": "markdown",
   "metadata": {},
   "source": [
    "# MNIST Dataset:"
   ]
  },
  {
   "cell_type": "code",
   "execution_count": 10,
   "metadata": {},
   "outputs": [],
   "source": [
    "#dataset = torchvision.datasets.MNIST(root='./datasets/', train=True, transform=None, target_transform=None, download=True)\n",
    "dataset = torchvision.datasets.MNIST(root='./datasets/', train=True, transform=T.ToTensor(), target_transform=None, download=False)"
   ]
  },
  {
   "cell_type": "code",
   "execution_count": 11,
   "metadata": {},
   "outputs": [],
   "source": [
    "%matplotlib inline\n",
    "#notebook\n",
    "import matplotlib.pyplot as plt\n",
    "#plt.imshow(dataset[0][0])\n",
    "#plt.show()"
   ]
  },
  {
   "cell_type": "code",
   "execution_count": 12,
   "metadata": {},
   "outputs": [],
   "source": [
    "from ReferentialGym.datasets import LabeledDataset"
   ]
  },
  {
   "cell_type": "code",
   "execution_count": 13,
   "metadata": {},
   "outputs": [],
   "source": [
    "dataset_args = {\n",
    "    \"dataset_class\":            \"LabeledDataset\",\n",
    "    \"dataset\":                  dataset,\n",
    "    \"nbr_stimulus\":             rg_config['nbr_stimulus'],\n",
    "    \"nbr_distractors\":          rg_config['nbr_distractors'],\n",
    "}\n",
    "\n",
    "dataset_mnistrg = LabeledDataset(kwargs=dataset_args)"
   ]
  },
  {
   "cell_type": "code",
   "execution_count": 14,
   "metadata": {},
   "outputs": [],
   "source": [
    "st = dataset_mnistrg[0]"
   ]
  },
  {
   "cell_type": "code",
   "execution_count": 15,
   "metadata": {},
   "outputs": [
    {
     "data": {
      "text/plain": [
       "torch.Size([33, 1, 1, 28, 28])"
      ]
     },
     "execution_count": 15,
     "metadata": {},
     "output_type": "execute_result"
    }
   ],
   "source": [
    "st.size()\n"
   ]
  },
  {
   "cell_type": "code",
   "execution_count": 16,
   "metadata": {},
   "outputs": [
    {
     "data": {
      "text/plain": [
       "<matplotlib.image.AxesImage at 0x7fe35cd38978>"
      ]
     },
     "execution_count": 16,
     "metadata": {},
     "output_type": "execute_result"
    },
    {
     "data": {
      "image/png": "[encoded data removed]",
      "text/plain": [
       "<Figure size 432x288 with 1 Axes>"
      ]
     },
     "metadata": {
      "needs_background": "light"
     },
     "output_type": "display_data"
    }
   ],
   "source": [
    "plt.imshow(T.ToPILImage()(st[0,0]))"
   ]
  },
  {
   "cell_type": "code",
   "execution_count": 17,
   "metadata": {},
   "outputs": [
    {
     "data": {
      "text/plain": [
       "<matplotlib.image.AxesImage at 0x7fe35cccbda0>"
      ]
     },
     "execution_count": 17,
     "metadata": {},
     "output_type": "execute_result"
    },
    {
     "data": {
      "image/png": "[encoded data removed]",
      "text/plain": [
       "<Figure size 432x288 with 1 Axes>"
      ]
     },
     "metadata": {
      "needs_background": "light"
     },
     "output_type": "display_data"
    }
   ],
   "source": [
    "plt.imshow(T.ToPILImage()(st[1,0]))"
   ]
  },
  {
   "cell_type": "code",
   "execution_count": 18,
   "metadata": {},
   "outputs": [
    {
     "name": "stdout",
     "output_type": "stream",
     "text": [
      "0 \t [0, 0, 0]\n",
      "1 \t [1, 0, 0]\n",
      "2 \t [0, 1, 0]\n",
      "3 \t [1, 1, 0]\n",
      "4 \t [0, 1, 1]\n",
      "5 \t [1, 1, 1]\n",
      "6 \t [0, 0, 1]\n",
      "7 \t [1, 0, 1]\n",
      "[4, 4, 4]\n"
     ]
    }
   ],
   "source": [
    "import math\n",
    "size = 2\n",
    "distractors = 2\n",
    "result = [0 for _ in range(distractors+1)]\n",
    "for idx in range( int(math.pow(size,distractors+1))):\n",
    "    indices = [0 for _ in range(distractors+1)]\n",
    "    idx2reduce = idx\n",
    "    for item_idx in reversed(range(distractors+1)):\n",
    "        exponant = item_idx\n",
    "        outof = int(math.pow(size, exponant)) \n",
    "        if outof > idx2reduce: continue\n",
    "        remainder = (idx2reduce//outof) % size \n",
    "        indices[item_idx] = remainder\n",
    "        idx2reduce -= size\n",
    "    print(idx,'\\t', indices)\n",
    "    result = [ r+i for i,r in zip(indices, result)]\n",
    "print(result)\n"
   ]
  },
  {
   "cell_type": "markdown",
   "metadata": {},
   "source": [
    "# Referential Game:"
   ]
  },
  {
   "cell_type": "code",
   "execution_count": 19,
   "metadata": {},
   "outputs": [
    {
     "name": "stdout",
     "output_type": "stream",
     "text": [
      "{'dataset_class': 'LabeledDataset', 'dataset': Dataset MNIST\n",
      "    Number of datapoints: 60000\n",
      "    Split: train\n",
      "    Root Location: ./datasets/\n",
      "    Transforms (if any): ToTensor()\n",
      "    Target Transforms (if any): None, 'nbr_stimulus': 1, 'nbr_distractors': 32}\n"
     ]
    }
   ],
   "source": [
    "dataset_args = {\n",
    "    \"dataset_class\":            \"LabeledDataset\",\n",
    "    \"dataset\":                  dataset,\n",
    "    \"nbr_stimulus\":             rg_config['nbr_stimulus'],\n",
    "    \"nbr_distractors\":          rg_config['nbr_distractors'],\n",
    "}\n",
    "\n",
    "print(dataset_args)\n",
    "refgame = ReferentialGym.make(config=rg_config, dataset_args=dataset_args)"
   ]
  },
  {
   "cell_type": "code",
   "execution_count": 20,
   "metadata": {},
   "outputs": [],
   "source": [
    "from tensorboardX import SummaryWriter\n",
    "logger = SummaryWriter('./example_log')"
   ]
  },
  {
   "cell_type": "code",
   "execution_count": 21,
   "metadata": {},
   "outputs": [],
   "source": [
    "nbr_epoch = 100"
   ]
  },
  {
   "cell_type": "code",
   "execution_count": 22,
   "metadata": {},
   "outputs": [
    {
     "name": "stdout",
     "output_type": "stream",
     "text": [
      "Epoch 0 :: Iteration 0/469 :: Training/Loss = 3.496526002883911\n",
      "Epoch 0 :: Iteration 1/469 :: Training/Loss = 3.4965245723724365\n",
      "Epoch 0 :: Iteration 2/469 :: Training/Loss = 3.4965708255767822\n",
      "Epoch 0 :: Iteration 3/469 :: Training/Loss = 3.4963111877441406\n",
      "Epoch 0 :: Iteration 4/469 :: Training/Loss = 3.496523857116699\n",
      "Epoch 0 :: Iteration 5/469 :: Training/Loss = 3.496436357498169\n",
      "Epoch 0 :: Iteration 6/469 :: Training/Loss = 3.49646258354187\n",
      "Epoch 0 :: Iteration 7/469 :: Training/Loss = 3.4966022968292236\n",
      "Epoch 0 :: Iteration 8/469 :: Training/Loss = 3.496436834335327\n",
      "Epoch 0 :: Iteration 9/469 :: Training/Loss = 3.496523380279541\n",
      "Epoch 0 :: Iteration 10/469 :: Training/Loss = 3.496467113494873\n",
      "Epoch 0 :: Iteration 11/469 :: Training/Loss = 3.496385335922241\n",
      "Epoch 0 :: Iteration 12/469 :: Training/Loss = 3.4964966773986816\n",
      "Epoch 0 :: Iteration 13/469 :: Training/Loss = 3.496558666229248\n",
      "Epoch 0 :: Iteration 14/469 :: Training/Loss = 3.4965789318084717\n",
      "Epoch 0 :: Iteration 15/469 :: Training/Loss = 3.4964866638183594\n",
      "Epoch 0 :: Iteration 16/469 :: Training/Loss = 3.4964208602905273\n",
      "Epoch 0 :: Iteration 17/469 :: Training/Loss = 3.496570348739624\n",
      "Epoch 0 :: Iteration 18/469 :: Training/Loss = 3.4963223934173584\n",
      "Epoch 0 :: Iteration 19/469 :: Training/Loss = 3.4964497089385986\n",
      "Epoch 0 :: Iteration 20/469 :: Training/Loss = 3.4965031147003174\n",
      "Epoch 0 :: Iteration 21/469 :: Training/Loss = 3.4965803623199463\n",
      "Epoch 0 :: Iteration 22/469 :: Training/Loss = 3.496501922607422\n",
      "Epoch 0 :: Iteration 23/469 :: Training/Loss = 3.4962708950042725\n",
      "Epoch 0 :: Iteration 24/469 :: Training/Loss = 3.496558904647827\n",
      "Epoch 0 :: Iteration 25/469 :: Training/Loss = 3.4963884353637695\n",
      "Epoch 0 :: Iteration 26/469 :: Training/Loss = 3.496469259262085\n",
      "Epoch 0 :: Iteration 27/469 :: Training/Loss = 3.4966790676116943\n",
      "Epoch 0 :: Iteration 28/469 :: Training/Loss = 3.4967236518859863\n",
      "Epoch 0 :: Iteration 29/469 :: Training/Loss = 3.496358871459961\n",
      "Epoch 0 :: Iteration 30/469 :: Training/Loss = 3.4964218139648438\n",
      "Epoch 0 :: Iteration 31/469 :: Training/Loss = 3.4965946674346924\n",
      "Epoch 0 :: Iteration 32/469 :: Training/Loss = 3.4963653087615967\n",
      "Epoch 0 :: Iteration 33/469 :: Training/Loss = 3.4965298175811768\n",
      "Epoch 0 :: Iteration 34/469 :: Training/Loss = 3.4964394569396973\n",
      "Epoch 0 :: Iteration 35/469 :: Training/Loss = 3.496490240097046\n",
      "Epoch 0 :: Iteration 36/469 :: Training/Loss = 3.496600389480591\n",
      "Epoch 0 :: Iteration 37/469 :: Training/Loss = 3.496403455734253\n",
      "Epoch 0 :: Iteration 38/469 :: Training/Loss = 3.4965012073516846\n",
      "Epoch 0 :: Iteration 39/469 :: Training/Loss = 3.496424436569214\n",
      "Epoch 0 :: Iteration 40/469 :: Training/Loss = 3.496589422225952\n",
      "Epoch 0 :: Iteration 41/469 :: Training/Loss = 3.4965898990631104\n",
      "Epoch 0 :: Iteration 42/469 :: Training/Loss = 3.4967451095581055\n",
      "Epoch 0 :: Iteration 43/469 :: Training/Loss = 3.4965429306030273\n",
      "Epoch 0 :: Iteration 44/469 :: Training/Loss = 3.496500253677368\n",
      "Epoch 0 :: Iteration 45/469 :: Training/Loss = 3.4964489936828613\n",
      "Epoch 0 :: Iteration 46/469 :: Training/Loss = 3.496523141860962\n",
      "Epoch 0 :: Iteration 47/469 :: Training/Loss = 3.4966814517974854\n",
      "Epoch 0 :: Iteration 48/469 :: Training/Loss = 3.49656081199646\n",
      "Epoch 0 :: Iteration 49/469 :: Training/Loss = 3.496643543243408\n",
      "Epoch 0 :: Iteration 50/469 :: Training/Loss = 3.496523141860962\n",
      "Epoch 0 :: Iteration 51/469 :: Training/Loss = 3.4963769912719727\n",
      "Epoch 0 :: Iteration 52/469 :: Training/Loss = 3.4965322017669678\n",
      "Epoch 0 :: Iteration 53/469 :: Training/Loss = 3.4966542720794678\n",
      "Epoch 0 :: Iteration 54/469 :: Training/Loss = 3.496677875518799\n",
      "Epoch 0 :: Iteration 55/469 :: Training/Loss = 3.4967033863067627\n",
      "Epoch 0 :: Iteration 56/469 :: Training/Loss = 3.496565103530884\n",
      "Epoch 0 :: Iteration 57/469 :: Training/Loss = 3.4964566230773926\n",
      "Epoch 0 :: Iteration 58/469 :: Training/Loss = 3.4964897632598877\n",
      "Epoch 0 :: Iteration 59/469 :: Training/Loss = 3.4964094161987305\n",
      "Epoch 0 :: Iteration 60/469 :: Training/Loss = 3.4966752529144287\n",
      "Epoch 0 :: Iteration 61/469 :: Training/Loss = 3.496530294418335\n",
      "Epoch 0 :: Iteration 62/469 :: Training/Loss = 3.496626853942871\n",
      "Epoch 0 :: Iteration 63/469 :: Training/Loss = 3.4966347217559814\n",
      "Epoch 0 :: Iteration 64/469 :: Training/Loss = 3.4967432022094727\n",
      "Epoch 0 :: Iteration 65/469 :: Training/Loss = 3.4963886737823486\n",
      "Epoch 0 :: Iteration 66/469 :: Training/Loss = 3.4966113567352295\n",
      "Epoch 0 :: Iteration 67/469 :: Training/Loss = 3.4965078830718994\n",
      "Epoch 0 :: Iteration 68/469 :: Training/Loss = 3.496504783630371\n",
      "Epoch 0 :: Iteration 69/469 :: Training/Loss = 3.4963884353637695\n",
      "Epoch 0 :: Iteration 70/469 :: Training/Loss = 3.496501922607422\n",
      "Epoch 0 :: Iteration 71/469 :: Training/Loss = 3.4965081214904785\n",
      "Epoch 0 :: Iteration 72/469 :: Training/Loss = 3.496504068374634\n",
      "Epoch 0 :: Iteration 73/469 :: Training/Loss = 3.4963760375976562\n",
      "Epoch 0 :: Iteration 74/469 :: Training/Loss = 3.4967546463012695\n",
      "Epoch 0 :: Iteration 75/469 :: Training/Loss = 3.4966650009155273\n",
      "Epoch 0 :: Iteration 76/469 :: Training/Loss = 3.4964189529418945\n",
      "Epoch 0 :: Iteration 77/469 :: Training/Loss = 3.496340036392212\n",
      "Epoch 0 :: Iteration 78/469 :: Training/Loss = 3.4963834285736084\n",
      "Epoch 0 :: Iteration 79/469 :: Training/Loss = 3.4964253902435303\n",
      "Epoch 0 :: Iteration 80/469 :: Training/Loss = 3.496551990509033\n",
      "Epoch 0 :: Iteration 81/469 :: Training/Loss = 3.4962716102600098\n",
      "Epoch 0 :: Iteration 82/469 :: Training/Loss = 3.496593713760376\n",
      "Epoch 0 :: Iteration 83/469 :: Training/Loss = 3.4965004920959473\n",
      "Epoch 0 :: Iteration 84/469 :: Training/Loss = 3.4963715076446533\n",
      "Epoch 0 :: Iteration 85/469 :: Training/Loss = 3.496501922607422\n",
      "Epoch 0 :: Iteration 86/469 :: Training/Loss = 3.4965779781341553\n",
      "Epoch 0 :: Iteration 87/469 :: Training/Loss = 3.4966020584106445\n",
      "Epoch 0 :: Iteration 88/469 :: Training/Loss = 3.496476173400879\n",
      "Epoch 0 :: Iteration 89/469 :: Training/Loss = 3.496835947036743\n",
      "Epoch 0 :: Iteration 90/469 :: Training/Loss = 3.4963338375091553\n",
      "Epoch 0 :: Iteration 91/469 :: Training/Loss = 3.4966042041778564\n",
      "Epoch 0 :: Iteration 92/469 :: Training/Loss = 3.4966273307800293\n",
      "Epoch 0 :: Iteration 93/469 :: Training/Loss = 3.4965906143188477\n",
      "Epoch 0 :: Iteration 94/469 :: Training/Loss = 3.496368646621704\n",
      "Epoch 0 :: Iteration 95/469 :: Training/Loss = 3.496494770050049\n",
      "Epoch 0 :: Iteration 96/469 :: Training/Loss = 3.496234178543091\n",
      "Epoch 0 :: Iteration 97/469 :: Training/Loss = 3.496720314025879\n",
      "Epoch 0 :: Iteration 98/469 :: Training/Loss = 3.49656343460083\n",
      "Epoch 0 :: Iteration 99/469 :: Training/Loss = 3.496389865875244\n",
      "Epoch 0 :: Iteration 100/469 :: Training/Loss = 3.4964182376861572\n",
      "Epoch 0 :: Iteration 101/469 :: Training/Loss = 3.4967613220214844\n",
      "Epoch 0 :: Iteration 102/469 :: Training/Loss = 3.49661922454834\n",
      "Epoch 0 :: Iteration 103/469 :: Training/Loss = 3.496394634246826\n",
      "Epoch 0 :: Iteration 104/469 :: Training/Loss = 3.4963691234588623\n",
      "Epoch 0 :: Iteration 105/469 :: Training/Loss = 3.496333122253418\n",
      "Epoch 0 :: Iteration 106/469 :: Training/Loss = 3.4966676235198975\n",
      "Epoch 0 :: Iteration 107/469 :: Training/Loss = 3.4964048862457275\n",
      "Epoch 0 :: Iteration 108/469 :: Training/Loss = 3.496962547302246\n",
      "Epoch 0 :: Iteration 109/469 :: Training/Loss = 3.496372699737549\n",
      "Epoch 0 :: Iteration 110/469 :: Training/Loss = 3.4966373443603516\n",
      "Epoch 0 :: Iteration 111/469 :: Training/Loss = 3.496659517288208\n",
      "Epoch 0 :: Iteration 112/469 :: Training/Loss = 3.4966037273406982\n",
      "Epoch 0 :: Iteration 113/469 :: Training/Loss = 3.4965388774871826\n",
      "Epoch 0 :: Iteration 114/469 :: Training/Loss = 3.4965178966522217\n",
      "Epoch 0 :: Iteration 115/469 :: Training/Loss = 3.4964373111724854\n",
      "Epoch 0 :: Iteration 116/469 :: Training/Loss = 3.4968159198760986\n",
      "Epoch 0 :: Iteration 117/469 :: Training/Loss = 3.4966039657592773\n",
      "Epoch 0 :: Iteration 118/469 :: Training/Loss = 3.4967997074127197\n",
      "Epoch 0 :: Iteration 119/469 :: Training/Loss = 3.4963748455047607\n",
      "Epoch 0 :: Iteration 120/469 :: Training/Loss = 3.4966864585876465\n",
      "Epoch 0 :: Iteration 121/469 :: Training/Loss = 3.4962081909179688\n",
      "Epoch 0 :: Iteration 122/469 :: Training/Loss = 3.496795892715454\n",
      "Epoch 0 :: Iteration 123/469 :: Training/Loss = 3.4965741634368896\n",
      "Epoch 0 :: Iteration 124/469 :: Training/Loss = 3.496285915374756\n"
     ]
    },
    {
     "name": "stdout",
     "output_type": "stream",
     "text": [
      "Epoch 0 :: Iteration 125/469 :: Training/Loss = 3.496286153793335\n",
      "Epoch 0 :: Iteration 126/469 :: Training/Loss = 3.4959495067596436\n",
      "Epoch 0 :: Iteration 127/469 :: Training/Loss = 3.496436595916748\n",
      "Epoch 0 :: Iteration 128/469 :: Training/Loss = 3.497002124786377\n",
      "Epoch 0 :: Iteration 129/469 :: Training/Loss = 3.496401786804199\n",
      "Epoch 0 :: Iteration 130/469 :: Training/Loss = 3.496635913848877\n",
      "Epoch 0 :: Iteration 131/469 :: Training/Loss = 3.4966931343078613\n",
      "Epoch 0 :: Iteration 132/469 :: Training/Loss = 3.496638298034668\n",
      "Epoch 0 :: Iteration 133/469 :: Training/Loss = 3.4963302612304688\n",
      "Epoch 0 :: Iteration 134/469 :: Training/Loss = 3.4966557025909424\n",
      "Epoch 0 :: Iteration 135/469 :: Training/Loss = 3.4964370727539062\n",
      "Epoch 0 :: Iteration 136/469 :: Training/Loss = 3.4966704845428467\n",
      "Warning: NaN or Inf found in input tensor.\n",
      "Epoch 0 :: Iteration 137/469 :: Training/Loss = nan\n",
      "Warning: NaN or Inf found in input tensor.\n",
      "Epoch 0 :: Iteration 138/469 :: Training/Loss = nan\n",
      "Warning: NaN or Inf found in input tensor.\n",
      "Epoch 0 :: Iteration 139/469 :: Training/Loss = nan\n",
      "Warning: NaN or Inf found in input tensor.\n",
      "Epoch 0 :: Iteration 140/469 :: Training/Loss = nan\n",
      "Warning: NaN or Inf found in input tensor.\n",
      "Epoch 0 :: Iteration 141/469 :: Training/Loss = nan\n",
      "Warning: NaN or Inf found in input tensor.\n",
      "Epoch 0 :: Iteration 142/469 :: Training/Loss = nan\n",
      "Warning: NaN or Inf found in input tensor.\n",
      "Epoch 0 :: Iteration 143/469 :: Training/Loss = nan\n",
      "Warning: NaN or Inf found in input tensor.\n",
      "Epoch 0 :: Iteration 144/469 :: Training/Loss = nan\n",
      "Warning: NaN or Inf found in input tensor.\n",
      "Epoch 0 :: Iteration 145/469 :: Training/Loss = nan\n",
      "Warning: NaN or Inf found in input tensor.\n",
      "Epoch 0 :: Iteration 146/469 :: Training/Loss = nan\n",
      "Warning: NaN or Inf found in input tensor.\n",
      "Epoch 0 :: Iteration 147/469 :: Training/Loss = nan\n",
      "Warning: NaN or Inf found in input tensor.\n",
      "Epoch 0 :: Iteration 148/469 :: Training/Loss = nan\n",
      "Warning: NaN or Inf found in input tensor.\n",
      "Epoch 0 :: Iteration 149/469 :: Training/Loss = nan\n",
      "Warning: NaN or Inf found in input tensor.\n",
      "Epoch 0 :: Iteration 150/469 :: Training/Loss = nan\n",
      "Warning: NaN or Inf found in input tensor.\n",
      "Epoch 0 :: Iteration 151/469 :: Training/Loss = nan\n",
      "Warning: NaN or Inf found in input tensor.\n",
      "Epoch 0 :: Iteration 152/469 :: Training/Loss = nan\n",
      "Warning: NaN or Inf found in input tensor.\n",
      "Epoch 0 :: Iteration 153/469 :: Training/Loss = nan\n",
      "Warning: NaN or Inf found in input tensor.\n",
      "Epoch 0 :: Iteration 154/469 :: Training/Loss = nan\n",
      "Warning: NaN or Inf found in input tensor.\n",
      "Epoch 0 :: Iteration 155/469 :: Training/Loss = nan\n",
      "Warning: NaN or Inf found in input tensor.\n",
      "Epoch 0 :: Iteration 156/469 :: Training/Loss = nan\n",
      "Warning: NaN or Inf found in input tensor.\n",
      "Epoch 0 :: Iteration 157/469 :: Training/Loss = nan\n",
      "Warning: NaN or Inf found in input tensor.\n",
      "Epoch 0 :: Iteration 158/469 :: Training/Loss = nan\n",
      "Warning: NaN or Inf found in input tensor.\n",
      "Epoch 0 :: Iteration 159/469 :: Training/Loss = nan\n",
      "Warning: NaN or Inf found in input tensor.\n",
      "Epoch 0 :: Iteration 160/469 :: Training/Loss = nan\n",
      "Warning: NaN or Inf found in input tensor.\n",
      "Epoch 0 :: Iteration 161/469 :: Training/Loss = nan\n",
      "Warning: NaN or Inf found in input tensor.\n",
      "Epoch 0 :: Iteration 162/469 :: Training/Loss = nan\n",
      "Warning: NaN or Inf found in input tensor.\n",
      "Epoch 0 :: Iteration 163/469 :: Training/Loss = nan\n",
      "Warning: NaN or Inf found in input tensor.\n",
      "Epoch 0 :: Iteration 164/469 :: Training/Loss = nan\n",
      "Warning: NaN or Inf found in input tensor.\n",
      "Epoch 0 :: Iteration 165/469 :: Training/Loss = nan\n",
      "Warning: NaN or Inf found in input tensor.\n",
      "Epoch 0 :: Iteration 166/469 :: Training/Loss = nan\n",
      "Warning: NaN or Inf found in input tensor.\n",
      "Epoch 0 :: Iteration 167/469 :: Training/Loss = nan\n",
      "Warning: NaN or Inf found in input tensor.\n",
      "Epoch 0 :: Iteration 168/469 :: Training/Loss = nan\n",
      "Warning: NaN or Inf found in input tensor.\n",
      "Epoch 0 :: Iteration 169/469 :: Training/Loss = nan\n",
      "Warning: NaN or Inf found in input tensor.\n",
      "Epoch 0 :: Iteration 170/469 :: Training/Loss = nan\n",
      "Warning: NaN or Inf found in input tensor.\n",
      "Epoch 0 :: Iteration 171/469 :: Training/Loss = nan\n",
      "Warning: NaN or Inf found in input tensor.\n",
      "Epoch 0 :: Iteration 172/469 :: Training/Loss = nan\n",
      "Warning: NaN or Inf found in input tensor.\n",
      "Epoch 0 :: Iteration 173/469 :: Training/Loss = nan\n",
      "Warning: NaN or Inf found in input tensor.\n",
      "Epoch 0 :: Iteration 174/469 :: Training/Loss = nan\n",
      "Warning: NaN or Inf found in input tensor.\n",
      "Epoch 0 :: Iteration 175/469 :: Training/Loss = nan\n"
     ]
    },
    {
     "ename": "KeyboardInterrupt",
     "evalue": "",
     "output_type": "error",
     "traceback": [
      "\u001b[0;31m---------------------------------------------------------------------------\u001b[0m",
      "\u001b[0;31mKeyboardInterrupt\u001b[0m                         Traceback (most recent call last)",
      "\u001b[0;32m<ipython-input-22-2a25a8ecdf8f>\u001b[0m in \u001b[0;36m<module>\u001b[0;34m\u001b[0m\n\u001b[1;32m      3\u001b[0m               \u001b[0mnbr_epoch\u001b[0m\u001b[0;34m=\u001b[0m\u001b[0mnbr_epoch\u001b[0m\u001b[0;34m,\u001b[0m\u001b[0;34m\u001b[0m\u001b[0;34m\u001b[0m\u001b[0m\n\u001b[1;32m      4\u001b[0m               \u001b[0mlogger\u001b[0m\u001b[0;34m=\u001b[0m\u001b[0mlogger\u001b[0m\u001b[0;34m,\u001b[0m\u001b[0;34m\u001b[0m\u001b[0;34m\u001b[0m\u001b[0m\n\u001b[0;32m----> 5\u001b[0;31m               verbose=True)\n\u001b[0m",
      "\u001b[0;32m~/Development/git/ReferentialGym/ReferentialGym/referential_game.py\u001b[0m in \u001b[0;36mtrain\u001b[0;34m(self, prototype_speaker, prototype_listener, nbr_epoch, logger, verbose)\u001b[0m\n\u001b[1;32m     72\u001b[0m                 \u001b[0mlistener\u001b[0m \u001b[0;34m=\u001b[0m \u001b[0mlistener\u001b[0m\u001b[0;34m.\u001b[0m\u001b[0mcuda\u001b[0m\u001b[0;34m(\u001b[0m\u001b[0;34m)\u001b[0m\u001b[0;34m\u001b[0m\u001b[0;34m\u001b[0m\u001b[0m\n\u001b[1;32m     73\u001b[0m \u001b[0;34m\u001b[0m\u001b[0m\n\u001b[0;32m---> 74\u001b[0;31m             \u001b[0;32mfor\u001b[0m \u001b[0midx_stimuli\u001b[0m\u001b[0;34m,\u001b[0m \u001b[0mstimuli\u001b[0m \u001b[0;32min\u001b[0m \u001b[0menumerate\u001b[0m\u001b[0;34m(\u001b[0m\u001b[0mdata_loader\u001b[0m\u001b[0;34m)\u001b[0m\u001b[0;34m:\u001b[0m\u001b[0;34m\u001b[0m\u001b[0;34m\u001b[0m\u001b[0m\n\u001b[0m\u001b[1;32m     75\u001b[0m                 \u001b[0mspeaker_optimizer\u001b[0m\u001b[0;34m.\u001b[0m\u001b[0mzero_grad\u001b[0m\u001b[0;34m(\u001b[0m\u001b[0;34m)\u001b[0m\u001b[0;34m\u001b[0m\u001b[0;34m\u001b[0m\u001b[0m\n\u001b[1;32m     76\u001b[0m                 \u001b[0mlistener_optimizer\u001b[0m\u001b[0;34m.\u001b[0m\u001b[0mzero_grad\u001b[0m\u001b[0;34m(\u001b[0m\u001b[0;34m)\u001b[0m\u001b[0;34m\u001b[0m\u001b[0;34m\u001b[0m\u001b[0m\n",
      "\u001b[0;32m~/anaconda3/envs/TORCH3.6/lib/python3.6/site-packages/torch/utils/data/dataloader.py\u001b[0m in \u001b[0;36m__next__\u001b[0;34m(self)\u001b[0m\n\u001b[1;32m    574\u001b[0m         \u001b[0;32mwhile\u001b[0m \u001b[0;32mTrue\u001b[0m\u001b[0;34m:\u001b[0m\u001b[0;34m\u001b[0m\u001b[0;34m\u001b[0m\u001b[0m\n\u001b[1;32m    575\u001b[0m             \u001b[0;32massert\u001b[0m \u001b[0;34m(\u001b[0m\u001b[0;32mnot\u001b[0m \u001b[0mself\u001b[0m\u001b[0;34m.\u001b[0m\u001b[0mshutdown\u001b[0m \u001b[0;32mand\u001b[0m \u001b[0mself\u001b[0m\u001b[0;34m.\u001b[0m\u001b[0mbatches_outstanding\u001b[0m \u001b[0;34m>\u001b[0m \u001b[0;36m0\u001b[0m\u001b[0;34m)\u001b[0m\u001b[0;34m\u001b[0m\u001b[0;34m\u001b[0m\u001b[0m\n\u001b[0;32m--> 576\u001b[0;31m             \u001b[0midx\u001b[0m\u001b[0;34m,\u001b[0m \u001b[0mbatch\u001b[0m \u001b[0;34m=\u001b[0m \u001b[0mself\u001b[0m\u001b[0;34m.\u001b[0m\u001b[0m_get_batch\u001b[0m\u001b[0;34m(\u001b[0m\u001b[0;34m)\u001b[0m\u001b[0;34m\u001b[0m\u001b[0;34m\u001b[0m\u001b[0m\n\u001b[0m\u001b[1;32m    577\u001b[0m             \u001b[0mself\u001b[0m\u001b[0;34m.\u001b[0m\u001b[0mbatches_outstanding\u001b[0m \u001b[0;34m-=\u001b[0m \u001b[0;36m1\u001b[0m\u001b[0;34m\u001b[0m\u001b[0;34m\u001b[0m\u001b[0m\n\u001b[1;32m    578\u001b[0m             \u001b[0;32mif\u001b[0m \u001b[0midx\u001b[0m \u001b[0;34m!=\u001b[0m \u001b[0mself\u001b[0m\u001b[0;34m.\u001b[0m\u001b[0mrcvd_idx\u001b[0m\u001b[0;34m:\u001b[0m\u001b[0;34m\u001b[0m\u001b[0;34m\u001b[0m\u001b[0m\n",
      "\u001b[0;32m~/anaconda3/envs/TORCH3.6/lib/python3.6/site-packages/torch/utils/data/dataloader.py\u001b[0m in \u001b[0;36m_get_batch\u001b[0;34m(self)\u001b[0m\n\u001b[1;32m    551\u001b[0m         \u001b[0;32melse\u001b[0m\u001b[0;34m:\u001b[0m\u001b[0;34m\u001b[0m\u001b[0;34m\u001b[0m\u001b[0m\n\u001b[1;32m    552\u001b[0m             \u001b[0;32mwhile\u001b[0m \u001b[0;32mTrue\u001b[0m\u001b[0;34m:\u001b[0m\u001b[0;34m\u001b[0m\u001b[0;34m\u001b[0m\u001b[0m\n\u001b[0;32m--> 553\u001b[0;31m                 \u001b[0msuccess\u001b[0m\u001b[0;34m,\u001b[0m \u001b[0mdata\u001b[0m \u001b[0;34m=\u001b[0m \u001b[0mself\u001b[0m\u001b[0;34m.\u001b[0m\u001b[0m_try_get_batch\u001b[0m\u001b[0;34m(\u001b[0m\u001b[0;34m)\u001b[0m\u001b[0;34m\u001b[0m\u001b[0;34m\u001b[0m\u001b[0m\n\u001b[0m\u001b[1;32m    554\u001b[0m                 \u001b[0;32mif\u001b[0m \u001b[0msuccess\u001b[0m\u001b[0;34m:\u001b[0m\u001b[0;34m\u001b[0m\u001b[0;34m\u001b[0m\u001b[0m\n\u001b[1;32m    555\u001b[0m                     \u001b[0;32mreturn\u001b[0m \u001b[0mdata\u001b[0m\u001b[0;34m\u001b[0m\u001b[0;34m\u001b[0m\u001b[0m\n",
      "\u001b[0;32m~/anaconda3/envs/TORCH3.6/lib/python3.6/site-packages/torch/utils/data/dataloader.py\u001b[0m in \u001b[0;36m_try_get_batch\u001b[0;34m(self, timeout)\u001b[0m\n\u001b[1;32m    509\u001b[0m         \u001b[0;31m#   (bool: whether successfully get data, any: data if successful else None)\u001b[0m\u001b[0;34m\u001b[0m\u001b[0;34m\u001b[0m\u001b[0;34m\u001b[0m\u001b[0m\n\u001b[1;32m    510\u001b[0m         \u001b[0;32mtry\u001b[0m\u001b[0;34m:\u001b[0m\u001b[0;34m\u001b[0m\u001b[0;34m\u001b[0m\u001b[0m\n\u001b[0;32m--> 511\u001b[0;31m             \u001b[0mdata\u001b[0m \u001b[0;34m=\u001b[0m \u001b[0mself\u001b[0m\u001b[0;34m.\u001b[0m\u001b[0mdata_queue\u001b[0m\u001b[0;34m.\u001b[0m\u001b[0mget\u001b[0m\u001b[0;34m(\u001b[0m\u001b[0mtimeout\u001b[0m\u001b[0;34m=\u001b[0m\u001b[0mtimeout\u001b[0m\u001b[0;34m)\u001b[0m\u001b[0;34m\u001b[0m\u001b[0;34m\u001b[0m\u001b[0m\n\u001b[0m\u001b[1;32m    512\u001b[0m             \u001b[0;32mreturn\u001b[0m \u001b[0;34m(\u001b[0m\u001b[0;32mTrue\u001b[0m\u001b[0;34m,\u001b[0m \u001b[0mdata\u001b[0m\u001b[0;34m)\u001b[0m\u001b[0;34m\u001b[0m\u001b[0;34m\u001b[0m\u001b[0m\n\u001b[1;32m    513\u001b[0m         \u001b[0;32mexcept\u001b[0m \u001b[0mException\u001b[0m \u001b[0;32mas\u001b[0m \u001b[0me\u001b[0m\u001b[0;34m:\u001b[0m\u001b[0;34m\u001b[0m\u001b[0;34m\u001b[0m\u001b[0m\n",
      "\u001b[0;32m~/anaconda3/envs/TORCH3.6/lib/python3.6/multiprocessing/queues.py\u001b[0m in \u001b[0;36mget\u001b[0;34m(self, block, timeout)\u001b[0m\n\u001b[1;32m    102\u001b[0m                 \u001b[0;32mif\u001b[0m \u001b[0mblock\u001b[0m\u001b[0;34m:\u001b[0m\u001b[0;34m\u001b[0m\u001b[0;34m\u001b[0m\u001b[0m\n\u001b[1;32m    103\u001b[0m                     \u001b[0mtimeout\u001b[0m \u001b[0;34m=\u001b[0m \u001b[0mdeadline\u001b[0m \u001b[0;34m-\u001b[0m \u001b[0mtime\u001b[0m\u001b[0;34m.\u001b[0m\u001b[0mmonotonic\u001b[0m\u001b[0;34m(\u001b[0m\u001b[0;34m)\u001b[0m\u001b[0;34m\u001b[0m\u001b[0;34m\u001b[0m\u001b[0m\n\u001b[0;32m--> 104\u001b[0;31m                     \u001b[0;32mif\u001b[0m \u001b[0;32mnot\u001b[0m \u001b[0mself\u001b[0m\u001b[0;34m.\u001b[0m\u001b[0m_poll\u001b[0m\u001b[0;34m(\u001b[0m\u001b[0mtimeout\u001b[0m\u001b[0;34m)\u001b[0m\u001b[0;34m:\u001b[0m\u001b[0;34m\u001b[0m\u001b[0;34m\u001b[0m\u001b[0m\n\u001b[0m\u001b[1;32m    105\u001b[0m                         \u001b[0;32mraise\u001b[0m \u001b[0mEmpty\u001b[0m\u001b[0;34m\u001b[0m\u001b[0;34m\u001b[0m\u001b[0m\n\u001b[1;32m    106\u001b[0m                 \u001b[0;32melif\u001b[0m \u001b[0;32mnot\u001b[0m \u001b[0mself\u001b[0m\u001b[0;34m.\u001b[0m\u001b[0m_poll\u001b[0m\u001b[0;34m(\u001b[0m\u001b[0;34m)\u001b[0m\u001b[0;34m:\u001b[0m\u001b[0;34m\u001b[0m\u001b[0;34m\u001b[0m\u001b[0m\n",
      "\u001b[0;32m~/anaconda3/envs/TORCH3.6/lib/python3.6/multiprocessing/connection.py\u001b[0m in \u001b[0;36mpoll\u001b[0;34m(self, timeout)\u001b[0m\n\u001b[1;32m    255\u001b[0m         \u001b[0mself\u001b[0m\u001b[0;34m.\u001b[0m\u001b[0m_check_closed\u001b[0m\u001b[0;34m(\u001b[0m\u001b[0;34m)\u001b[0m\u001b[0;34m\u001b[0m\u001b[0;34m\u001b[0m\u001b[0m\n\u001b[1;32m    256\u001b[0m         \u001b[0mself\u001b[0m\u001b[0;34m.\u001b[0m\u001b[0m_check_readable\u001b[0m\u001b[0;34m(\u001b[0m\u001b[0;34m)\u001b[0m\u001b[0;34m\u001b[0m\u001b[0;34m\u001b[0m\u001b[0m\n\u001b[0;32m--> 257\u001b[0;31m         \u001b[0;32mreturn\u001b[0m \u001b[0mself\u001b[0m\u001b[0;34m.\u001b[0m\u001b[0m_poll\u001b[0m\u001b[0;34m(\u001b[0m\u001b[0mtimeout\u001b[0m\u001b[0;34m)\u001b[0m\u001b[0;34m\u001b[0m\u001b[0;34m\u001b[0m\u001b[0m\n\u001b[0m\u001b[1;32m    258\u001b[0m \u001b[0;34m\u001b[0m\u001b[0m\n\u001b[1;32m    259\u001b[0m     \u001b[0;32mdef\u001b[0m \u001b[0m__enter__\u001b[0m\u001b[0;34m(\u001b[0m\u001b[0mself\u001b[0m\u001b[0;34m)\u001b[0m\u001b[0;34m:\u001b[0m\u001b[0;34m\u001b[0m\u001b[0;34m\u001b[0m\u001b[0m\n",
      "\u001b[0;32m~/anaconda3/envs/TORCH3.6/lib/python3.6/multiprocessing/connection.py\u001b[0m in \u001b[0;36m_poll\u001b[0;34m(self, timeout)\u001b[0m\n\u001b[1;32m    412\u001b[0m \u001b[0;34m\u001b[0m\u001b[0m\n\u001b[1;32m    413\u001b[0m     \u001b[0;32mdef\u001b[0m \u001b[0m_poll\u001b[0m\u001b[0;34m(\u001b[0m\u001b[0mself\u001b[0m\u001b[0;34m,\u001b[0m \u001b[0mtimeout\u001b[0m\u001b[0;34m)\u001b[0m\u001b[0;34m:\u001b[0m\u001b[0;34m\u001b[0m\u001b[0;34m\u001b[0m\u001b[0m\n\u001b[0;32m--> 414\u001b[0;31m         \u001b[0mr\u001b[0m \u001b[0;34m=\u001b[0m \u001b[0mwait\u001b[0m\u001b[0;34m(\u001b[0m\u001b[0;34m[\u001b[0m\u001b[0mself\u001b[0m\u001b[0;34m]\u001b[0m\u001b[0;34m,\u001b[0m \u001b[0mtimeout\u001b[0m\u001b[0;34m)\u001b[0m\u001b[0;34m\u001b[0m\u001b[0;34m\u001b[0m\u001b[0m\n\u001b[0m\u001b[1;32m    415\u001b[0m         \u001b[0;32mreturn\u001b[0m \u001b[0mbool\u001b[0m\u001b[0;34m(\u001b[0m\u001b[0mr\u001b[0m\u001b[0;34m)\u001b[0m\u001b[0;34m\u001b[0m\u001b[0;34m\u001b[0m\u001b[0m\n\u001b[1;32m    416\u001b[0m \u001b[0;34m\u001b[0m\u001b[0m\n",
      "\u001b[0;32m~/anaconda3/envs/TORCH3.6/lib/python3.6/multiprocessing/connection.py\u001b[0m in \u001b[0;36mwait\u001b[0;34m(object_list, timeout)\u001b[0m\n\u001b[1;32m    909\u001b[0m \u001b[0;34m\u001b[0m\u001b[0m\n\u001b[1;32m    910\u001b[0m             \u001b[0;32mwhile\u001b[0m \u001b[0;32mTrue\u001b[0m\u001b[0;34m:\u001b[0m\u001b[0;34m\u001b[0m\u001b[0;34m\u001b[0m\u001b[0m\n\u001b[0;32m--> 911\u001b[0;31m                 \u001b[0mready\u001b[0m \u001b[0;34m=\u001b[0m \u001b[0mselector\u001b[0m\u001b[0;34m.\u001b[0m\u001b[0mselect\u001b[0m\u001b[0;34m(\u001b[0m\u001b[0mtimeout\u001b[0m\u001b[0;34m)\u001b[0m\u001b[0;34m\u001b[0m\u001b[0;34m\u001b[0m\u001b[0m\n\u001b[0m\u001b[1;32m    912\u001b[0m                 \u001b[0;32mif\u001b[0m \u001b[0mready\u001b[0m\u001b[0;34m:\u001b[0m\u001b[0;34m\u001b[0m\u001b[0;34m\u001b[0m\u001b[0m\n\u001b[1;32m    913\u001b[0m                     \u001b[0;32mreturn\u001b[0m \u001b[0;34m[\u001b[0m\u001b[0mkey\u001b[0m\u001b[0;34m.\u001b[0m\u001b[0mfileobj\u001b[0m \u001b[0;32mfor\u001b[0m \u001b[0;34m(\u001b[0m\u001b[0mkey\u001b[0m\u001b[0;34m,\u001b[0m \u001b[0mevents\u001b[0m\u001b[0;34m)\u001b[0m \u001b[0;32min\u001b[0m \u001b[0mready\u001b[0m\u001b[0;34m]\u001b[0m\u001b[0;34m\u001b[0m\u001b[0;34m\u001b[0m\u001b[0m\n",
      "\u001b[0;32m~/anaconda3/envs/TORCH3.6/lib/python3.6/selectors.py\u001b[0m in \u001b[0;36mselect\u001b[0;34m(self, timeout)\u001b[0m\n\u001b[1;32m    374\u001b[0m             \u001b[0mready\u001b[0m \u001b[0;34m=\u001b[0m \u001b[0;34m[\u001b[0m\u001b[0;34m]\u001b[0m\u001b[0;34m\u001b[0m\u001b[0;34m\u001b[0m\u001b[0m\n\u001b[1;32m    375\u001b[0m             \u001b[0;32mtry\u001b[0m\u001b[0;34m:\u001b[0m\u001b[0;34m\u001b[0m\u001b[0;34m\u001b[0m\u001b[0m\n\u001b[0;32m--> 376\u001b[0;31m                 \u001b[0mfd_event_list\u001b[0m \u001b[0;34m=\u001b[0m \u001b[0mself\u001b[0m\u001b[0;34m.\u001b[0m\u001b[0m_poll\u001b[0m\u001b[0;34m.\u001b[0m\u001b[0mpoll\u001b[0m\u001b[0;34m(\u001b[0m\u001b[0mtimeout\u001b[0m\u001b[0;34m)\u001b[0m\u001b[0;34m\u001b[0m\u001b[0;34m\u001b[0m\u001b[0m\n\u001b[0m\u001b[1;32m    377\u001b[0m             \u001b[0;32mexcept\u001b[0m \u001b[0mInterruptedError\u001b[0m\u001b[0;34m:\u001b[0m\u001b[0;34m\u001b[0m\u001b[0;34m\u001b[0m\u001b[0m\n\u001b[1;32m    378\u001b[0m                 \u001b[0;32mreturn\u001b[0m \u001b[0mready\u001b[0m\u001b[0;34m\u001b[0m\u001b[0;34m\u001b[0m\u001b[0m\n",
      "\u001b[0;31mKeyboardInterrupt\u001b[0m: "
     ]
    }
   ],
   "source": [
    "refgame.train(prototype_speaker=bspeaker, \n",
    "              prototype_listener=blistener, \n",
    "              nbr_epoch=nbr_epoch,\n",
    "              logger=logger,\n",
    "              verbose=True)"
   ]
  },
  {
   "cell_type": "code",
   "execution_count": null,
   "metadata": {},
   "outputs": [],
   "source": []
  }
 ],
 "metadata": {
  "kernelspec": {
   "display_name": "Python 3",
   "language": "python",
   "name": "python3"
  }
 },
 "nbformat": 4,
 "nbformat_minor": 2
}
