{
 "cells": [
  {
   "cell_type": "code",
   "execution_count": 2,
   "metadata": {},
   "outputs": [],
   "source": [
    "import ReferentialGym\n",
    "\n",
    "import torch\n",
    "import torchvision\n",
    "import torchvision.transforms as T "
   ]
  },
  {
   "cell_type": "markdown",
   "metadata": {},
   "source": [
    "# Hyperparameters:"
   ]
  },
  {
   "cell_type": "code",
   "execution_count": 1,
   "metadata": {},
   "outputs": [],
   "source": [
    "rg_config = {\n",
    "    \"observability\":            \"full\",\n",
    "    \"max_sentence_length\":      10,\n",
    "    \"nbr_communication_round\":  1,\n",
    "    \"nbr_distractors\":          127,\n",
    "    \"distractor_sampling\":      \"uniform\",\n",
    "    \"descriptive\":              False,\n",
    "    \"object_centric\":           False,\n",
    "    \"nbr_stimulus\":             1,\n",
    "\n",
    "    \"graphtype\":                'straight_through_gumbel_softmax', #'reinforce'/'gumbel_softmax'/'straight_through_gumbel_softmax' \n",
    "    \"tau\":                      0.2,\n",
    "    \"vocab_size\":               20,\n",
    "\n",
    "    \"cultural_pressure_it_period\": 100,\n",
    "    \"cultural_substrate_size\":  5,\n",
    "    \n",
    "    \"batch_size\":               128,\n",
    "    \"dataloader_num_worker\":    8,\n",
    "    \n",
    "    \"learning_rate\":            1e-3,\n",
    "    \"adam_eps\":                 1e-5,\n",
    "    \"gradient_clip\":            5,\n",
    "\n",
    "    \"use_cuda\":                 True,\n",
    "}"
   ]
  },
  {
   "cell_type": "markdown",
   "metadata": {},
   "source": [
    "# Agent Configuration:"
   ]
  },
  {
   "cell_type": "code",
   "execution_count": 4,
   "metadata": {},
   "outputs": [],
   "source": [
    "speaker_config = dict()\n",
    "speaker_config['nbr_distractors'] = 0 if rg_config['observability'] == \"partial\" else rg_config['nbr_distractors']\n",
    "speaker_config['nbr_stimulus'] = rg_config['nbr_stimulus']\n",
    "\n",
    "# Assuming CNN task:\n",
    "#speaker_config['observation_resize_dim'] = 64\n",
    "# Assuming FC task:\n",
    "#speaker_config['preprocess_function'] = 'PreprocessFunction'\n",
    "\n",
    "# Recurrent Convolutional Architecture:\n",
    "speaker_config['cnn_encoder_channels'] = [32, 32, 64]\n",
    "speaker_config['cnn_encoder_kernels'] = [6, 4, 3]\n",
    "speaker_config['cnn_encoder_strides'] = [6, 2, 1]\n",
    "speaker_config['cnn_encoder_paddings'] = [0, 1, 1]\n",
    "speaker_config['cnn_encoder_feature_dim'] = 512\n",
    "speaker_config['cnn_encoder_mini_batch_size'] = 128\n",
    "speaker_config['temporal_encoder_nbr_hidden_units'] = 512\n",
    "speaker_config['temporal_encoder_nbr_rnn_layers'] = 1\n",
    "speaker_config['temporal_encoder_mini_batch_size'] = 128\n",
    "speaker_config['symbol_processing_nbr_hidden_units'] = 512\n",
    "speaker_config['symbol_processing_nbr_rnn_layers'] = 2\n",
    "\n",
    "import copy\n",
    "listener_config = copy.deepcopy(speaker_config)\n",
    "listener_config['nbr_distractors'] = rg_config['nbr_distractors']"
   ]
  },
  {
   "cell_type": "markdown",
   "metadata": {},
   "source": [
    "# Basic Agents"
   ]
  },
  {
   "cell_type": "markdown",
   "metadata": {},
   "source": [
    "## Basic Speaker:"
   ]
  },
  {
   "cell_type": "code",
   "execution_count": 5,
   "metadata": {},
   "outputs": [],
   "source": [
    "from ReferentialGym.agents import BasicCNNSpeaker"
   ]
  },
  {
   "cell_type": "code",
   "execution_count": 6,
   "metadata": {},
   "outputs": [],
   "source": [
    "batch_size = 4\n",
    "nbr_distractors = speaker_config['nbr_distractors']\n",
    "nbr_stimulus = speaker_config['nbr_stimulus']\n",
    "obs_shape = [nbr_distractors+1,nbr_stimulus,1,28,28]\n",
    "feature_dim = 512\n",
    "vocab_size = rg_config['vocab_size']\n",
    "max_sentence_length = rg_config['max_sentence_length']\n",
    "\n",
    "bspeaker = BasicCNNSpeaker(kwargs=speaker_config, \n",
    "                              obs_shape=obs_shape, \n",
    "                              feature_dim=feature_dim, \n",
    "                              vocab_size=vocab_size, \n",
    "                              max_sentence_length=max_sentence_length)"
   ]
  },
  {
   "cell_type": "code",
   "execution_count": 7,
   "metadata": {},
   "outputs": [
    {
     "data": {
      "text/plain": [
       "\"\\nstimuli = torch.zeros((batch_size,nbr_distractors+1,nbr_stimulus,1,28,28))\\nst_size = stimuli.size()\\nprint(st_size)\\ny_logits, y_one_hot = bspeaker(stimuli, multi_round=True)\\nprint(y_logits.size())\\n\\nnext_y_logits, next_y_one_hot = bspeaker(stimuli, \\n                                         sentences=y_one_hot, \\n                                         graphtype='straight_through_gumbel_softmax', \\n                                         multi_round=True)\\nprint(next_y_logits.size())\\n\""
      ]
     },
     "execution_count": 7,
     "metadata": {},
     "output_type": "execute_result"
    }
   ],
   "source": [
    "'''\n",
    "stimuli = torch.zeros((batch_size,nbr_distractors+1,nbr_stimulus,1,28,28))\n",
    "st_size = stimuli.size()\n",
    "print(st_size)\n",
    "y_logits, y_one_hot = bspeaker(stimuli, multi_round=True)\n",
    "print(y_logits.size())\n",
    "\n",
    "next_y_logits, next_y_one_hot = bspeaker(stimuli, \n",
    "                                         sentences=y_one_hot, \n",
    "                                         graphtype='straight_through_gumbel_softmax', \n",
    "                                         multi_round=True)\n",
    "print(next_y_logits.size())\n",
    "'''"
   ]
  },
  {
   "cell_type": "markdown",
   "metadata": {},
   "source": [
    "## Basic Listener:"
   ]
  },
  {
   "cell_type": "code",
   "execution_count": 8,
   "metadata": {},
   "outputs": [],
   "source": [
    "from ReferentialGym.agents import BasicCNNListener"
   ]
  },
  {
   "cell_type": "code",
   "execution_count": 9,
   "metadata": {},
   "outputs": [],
   "source": [
    "batch_size = 4\n",
    "nbr_distractors = listener_config['nbr_distractors']\n",
    "nbr_stimulus = listener_config['nbr_stimulus']\n",
    "obs_shape = [nbr_distractors+1,nbr_stimulus,1,28,28]\n",
    "feature_dim = 512\n",
    "vocab_size = rg_config['vocab_size']\n",
    "max_sentence_length = rg_config['max_sentence_length']\n",
    "\n",
    "blistener = BasicCNNListener(kwargs=listener_config, \n",
    "                              obs_shape=obs_shape, \n",
    "                              feature_dim=feature_dim, \n",
    "                              vocab_size=vocab_size, \n",
    "                              max_sentence_length=max_sentence_length)"
   ]
  },
  {
   "cell_type": "code",
   "execution_count": 10,
   "metadata": {},
   "outputs": [
    {
     "data": {
      "text/plain": [
       "\"\\nstimuli = torch.zeros((batch_size,nbr_distractors+1,nbr_stimulus,1,28,28))\\nst_size = stimuli.size()\\nprint(st_size)\\n#y_logits, y_one_hot = bspeaker(stimuli)\\nprint(y_logits.size())\\ndecision_logits, next_sentences_logits, next_sentences = blistener(sentences=y_logits, \\n                                                                   stimuli=stimuli, \\n                                                                   graphtype='straight_through_gumbel_softmax',\\n                                                                   multi_round=True)\\nprint(decision_logits)\\nprint(next_sentences.size())\\n\""
      ]
     },
     "execution_count": 10,
     "metadata": {},
     "output_type": "execute_result"
    }
   ],
   "source": [
    "'''\n",
    "stimuli = torch.zeros((batch_size,nbr_distractors+1,nbr_stimulus,1,28,28))\n",
    "st_size = stimuli.size()\n",
    "print(st_size)\n",
    "#y_logits, y_one_hot = bspeaker(stimuli)\n",
    "print(y_logits.size())\n",
    "decision_logits, next_sentences_logits, next_sentences = blistener(sentences=y_logits, \n",
    "                                                                   stimuli=stimuli, \n",
    "                                                                   graphtype='straight_through_gumbel_softmax',\n",
    "                                                                   multi_round=True)\n",
    "print(decision_logits)\n",
    "print(next_sentences.size())\n",
    "'''"
   ]
  },
  {
   "cell_type": "markdown",
   "metadata": {},
   "source": [
    "# MNIST Dataset:"
   ]
  },
  {
   "cell_type": "code",
   "execution_count": 11,
   "metadata": {},
   "outputs": [],
   "source": [
    "#dataset = torchvision.datasets.MNIST(root='./datasets/', train=True, transform=None, target_transform=None, download=True)\n",
    "dataset = torchvision.datasets.MNIST(root='./datasets/', train=True, transform=T.ToTensor(), target_transform=None, download=False)"
   ]
  },
  {
   "cell_type": "code",
   "execution_count": 12,
   "metadata": {},
   "outputs": [],
   "source": [
    "%matplotlib inline\n",
    "#notebook\n",
    "import matplotlib.pyplot as plt\n",
    "#plt.imshow(dataset[0][0])\n",
    "#plt.show()"
   ]
  },
  {
   "cell_type": "code",
   "execution_count": 13,
   "metadata": {},
   "outputs": [],
   "source": [
    "from ReferentialGym.datasets import LabeledDataset"
   ]
  },
  {
   "cell_type": "code",
   "execution_count": 14,
   "metadata": {},
   "outputs": [],
   "source": [
    "dataset_args = {\n",
    "    \"dataset_class\":            \"LabeledDataset\",\n",
    "    \"dataset\":                  dataset,\n",
    "    \"nbr_stimulus\":             rg_config['nbr_stimulus'],\n",
    "    \"nbr_distractors\":          rg_config['nbr_distractors'],\n",
    "}\n",
    "\n",
    "dataset_mnistrg = LabeledDataset(kwargs=dataset_args)"
   ]
  },
  {
   "cell_type": "code",
   "execution_count": 15,
   "metadata": {},
   "outputs": [],
   "source": [
    "st = dataset_mnistrg[0]"
   ]
  },
  {
   "cell_type": "code",
   "execution_count": 16,
   "metadata": {},
   "outputs": [
    {
     "data": {
      "text/plain": [
       "torch.Size([128, 1, 1, 28, 28])"
      ]
     },
     "execution_count": 16,
     "metadata": {},
     "output_type": "execute_result"
    }
   ],
   "source": [
    "st.size()\n"
   ]
  },
  {
   "cell_type": "code",
   "execution_count": 17,
   "metadata": {},
   "outputs": [
    {
     "data": {
      "text/plain": [
       "<matplotlib.image.AxesImage at 0x7f30348c6908>"
      ]
     },
     "execution_count": 17,
     "metadata": {},
     "output_type": "execute_result"
    },
    {
     "data": {
      "image/png": "[encoded data removed]",
      "text/plain": [
       "<Figure size 432x288 with 1 Axes>"
      ]
     },
     "metadata": {
      "needs_background": "light"
     },
     "output_type": "display_data"
    }
   ],
   "source": [
    "plt.imshow(T.ToPILImage()(st[0,0]))"
   ]
  },
  {
   "cell_type": "code",
   "execution_count": 18,
   "metadata": {},
   "outputs": [
    {
     "data": {
      "text/plain": [
       "<matplotlib.image.AxesImage at 0x7f3034856d30>"
      ]
     },
     "execution_count": 18,
     "metadata": {},
     "output_type": "execute_result"
    },
    {
     "data": {
      "image/png": "[encoded data removed]",
      "text/plain": [
       "<Figure size 432x288 with 1 Axes>"
      ]
     },
     "metadata": {
      "needs_background": "light"
     },
     "output_type": "display_data"
    }
   ],
   "source": [
    "plt.imshow(T.ToPILImage()(st[1,0]))"
   ]
  },
  {
   "cell_type": "code",
   "execution_count": 19,
   "metadata": {},
   "outputs": [
    {
     "name": "stdout",
     "output_type": "stream",
     "text": [
      "0 \t [0, 0, 0]\n",
      "1 \t [1, 0, 0]\n",
      "2 \t [0, 1, 0]\n",
      "3 \t [1, 1, 0]\n",
      "4 \t [0, 1, 1]\n",
      "5 \t [1, 1, 1]\n",
      "6 \t [0, 0, 1]\n",
      "7 \t [1, 0, 1]\n",
      "[4, 4, 4]\n"
     ]
    }
   ],
   "source": [
    "import math\n",
    "size = 2\n",
    "distractors = 2\n",
    "result = [0 for _ in range(distractors+1)]\n",
    "for idx in range( int(math.pow(size,distractors+1))):\n",
    "    indices = [0 for _ in range(distractors+1)]\n",
    "    idx2reduce = idx\n",
    "    for item_idx in reversed(range(distractors+1)):\n",
    "        exponant = item_idx\n",
    "        outof = int(math.pow(size, exponant)) \n",
    "        if outof > idx2reduce: continue\n",
    "        remainder = (idx2reduce//outof) % size \n",
    "        indices[item_idx] = remainder\n",
    "        idx2reduce -= size\n",
    "    print(idx,'\\t', indices)\n",
    "    result = [ r+i for i,r in zip(indices, result)]\n",
    "print(result)\n"
   ]
  },
  {
   "cell_type": "markdown",
   "metadata": {},
   "source": [
    "# Referential Game:"
   ]
  },
  {
   "cell_type": "code",
   "execution_count": 20,
   "metadata": {},
   "outputs": [
    {
     "name": "stdout",
     "output_type": "stream",
     "text": [
      "{'dataset_class': 'LabeledDataset', 'dataset': Dataset MNIST\n",
      "    Number of datapoints: 60000\n",
      "    Split: train\n",
      "    Root Location: ./datasets/\n",
      "    Transforms (if any): ToTensor()\n",
      "    Target Transforms (if any): None, 'nbr_stimulus': 1, 'nbr_distractors': 127}\n"
     ]
    }
   ],
   "source": [
    "dataset_args = {\n",
    "    \"dataset_class\":            \"LabeledDataset\",\n",
    "    \"dataset\":                  dataset,\n",
    "    \"nbr_stimulus\":             rg_config['nbr_stimulus'],\n",
    "    \"nbr_distractors\":          rg_config['nbr_distractors'],\n",
    "}\n",
    "\n",
    "print(dataset_args)\n",
    "refgame = ReferentialGym.make(config=rg_config, dataset_args=dataset_args)"
   ]
  },
  {
   "cell_type": "code",
   "execution_count": 21,
   "metadata": {},
   "outputs": [],
   "source": [
    "from tensorboardX import SummaryWriter\n",
    "logger = SummaryWriter('./example_log')"
   ]
  },
  {
   "cell_type": "code",
   "execution_count": 22,
   "metadata": {},
   "outputs": [],
   "source": [
    "nbr_epoch = 100"
   ]
  },
  {
   "cell_type": "code",
   "execution_count": 23,
   "metadata": {},
   "outputs": [
    {
     "ename": "RuntimeError",
     "evalue": "CUDA out of memory. Tried to allocate 538.00 MiB (GPU 0; 5.93 GiB total capacity; 1.75 GiB already allocated; 57.75 MiB free; 41.80 MiB cached)",
     "output_type": "error",
     "traceback": [
      "\u001b[0;31m---------------------------------------------------------------------------\u001b[0m",
      "\u001b[0;31mRuntimeError\u001b[0m                              Traceback (most recent call last)",
      "\u001b[0;32m<ipython-input-23-4bfff9ecc62f>\u001b[0m in \u001b[0;36m<module>\u001b[0;34m\u001b[0m\n\u001b[1;32m      3\u001b[0m               \u001b[0mnbr_epoch\u001b[0m\u001b[0;34m=\u001b[0m\u001b[0mnbr_epoch\u001b[0m\u001b[0;34m,\u001b[0m\u001b[0;34m\u001b[0m\u001b[0;34m\u001b[0m\u001b[0m\n\u001b[1;32m      4\u001b[0m               \u001b[0mlogger\u001b[0m\u001b[0;34m=\u001b[0m\u001b[0mlogger\u001b[0m\u001b[0;34m,\u001b[0m\u001b[0;34m\u001b[0m\u001b[0;34m\u001b[0m\u001b[0m\n\u001b[0;32m----> 5\u001b[0;31m               verbose_period=100)\n\u001b[0m",
      "\u001b[0;32m~/Development/git/ReferentialGym/ReferentialGym/referential_game.py\u001b[0m in \u001b[0;36mtrain\u001b[0;34m(self, prototype_speaker, prototype_listener, nbr_epoch, logger, verbose_period)\u001b[0m\n\u001b[1;32m     93\u001b[0m                                                                           \u001b[0mgraphtype\u001b[0m\u001b[0;34m=\u001b[0m\u001b[0mself\u001b[0m\u001b[0;34m.\u001b[0m\u001b[0mconfig\u001b[0m\u001b[0;34m[\u001b[0m\u001b[0;34m'graphtype'\u001b[0m\u001b[0;34m]\u001b[0m\u001b[0;34m,\u001b[0m\u001b[0;34m\u001b[0m\u001b[0;34m\u001b[0m\u001b[0m\n\u001b[1;32m     94\u001b[0m                                                                           \u001b[0mtau\u001b[0m\u001b[0;34m=\u001b[0m\u001b[0mself\u001b[0m\u001b[0;34m.\u001b[0m\u001b[0mconfig\u001b[0m\u001b[0;34m[\u001b[0m\u001b[0;34m'tau'\u001b[0m\u001b[0;34m]\u001b[0m\u001b[0;34m,\u001b[0m\u001b[0;34m\u001b[0m\u001b[0;34m\u001b[0m\u001b[0m\n\u001b[0;32m---> 95\u001b[0;31m                                                                           multi_round=multi_round)\n\u001b[0m\u001b[1;32m     96\u001b[0m \u001b[0;34m\u001b[0m\u001b[0m\n\u001b[1;32m     97\u001b[0m                     decision_logits, listener_sentences_logits, listener_sentences = listener(sentences=speaker_sentences, \n",
      "\u001b[0;32m~/anaconda3/envs/TORCH3.6/lib/python3.6/site-packages/torch/nn/modules/module.py\u001b[0m in \u001b[0;36m__call__\u001b[0;34m(self, *input, **kwargs)\u001b[0m\n\u001b[1;32m    491\u001b[0m             \u001b[0mresult\u001b[0m \u001b[0;34m=\u001b[0m \u001b[0mself\u001b[0m\u001b[0;34m.\u001b[0m\u001b[0m_slow_forward\u001b[0m\u001b[0;34m(\u001b[0m\u001b[0;34m*\u001b[0m\u001b[0minput\u001b[0m\u001b[0;34m,\u001b[0m \u001b[0;34m**\u001b[0m\u001b[0mkwargs\u001b[0m\u001b[0;34m)\u001b[0m\u001b[0;34m\u001b[0m\u001b[0;34m\u001b[0m\u001b[0m\n\u001b[1;32m    492\u001b[0m         \u001b[0;32melse\u001b[0m\u001b[0;34m:\u001b[0m\u001b[0;34m\u001b[0m\u001b[0;34m\u001b[0m\u001b[0m\n\u001b[0;32m--> 493\u001b[0;31m             \u001b[0mresult\u001b[0m \u001b[0;34m=\u001b[0m \u001b[0mself\u001b[0m\u001b[0;34m.\u001b[0m\u001b[0mforward\u001b[0m\u001b[0;34m(\u001b[0m\u001b[0;34m*\u001b[0m\u001b[0minput\u001b[0m\u001b[0;34m,\u001b[0m \u001b[0;34m**\u001b[0m\u001b[0mkwargs\u001b[0m\u001b[0;34m)\u001b[0m\u001b[0;34m\u001b[0m\u001b[0;34m\u001b[0m\u001b[0m\n\u001b[0m\u001b[1;32m    494\u001b[0m         \u001b[0;32mfor\u001b[0m \u001b[0mhook\u001b[0m \u001b[0;32min\u001b[0m \u001b[0mself\u001b[0m\u001b[0;34m.\u001b[0m\u001b[0m_forward_hooks\u001b[0m\u001b[0;34m.\u001b[0m\u001b[0mvalues\u001b[0m\u001b[0;34m(\u001b[0m\u001b[0;34m)\u001b[0m\u001b[0;34m:\u001b[0m\u001b[0;34m\u001b[0m\u001b[0;34m\u001b[0m\u001b[0m\n\u001b[1;32m    495\u001b[0m             \u001b[0mhook_result\u001b[0m \u001b[0;34m=\u001b[0m \u001b[0mhook\u001b[0m\u001b[0;34m(\u001b[0m\u001b[0mself\u001b[0m\u001b[0;34m,\u001b[0m \u001b[0minput\u001b[0m\u001b[0;34m,\u001b[0m \u001b[0mresult\u001b[0m\u001b[0;34m)\u001b[0m\u001b[0;34m\u001b[0m\u001b[0;34m\u001b[0m\u001b[0m\n",
      "\u001b[0;32m~/Development/git/ReferentialGym/ReferentialGym/agents/speaker.py\u001b[0m in \u001b[0;36mforward\u001b[0;34m(self, stimuli, sentences, graphtype, tau, multi_round)\u001b[0m\n\u001b[1;32m     78\u001b[0m \u001b[0;34m\u001b[0m\u001b[0m\n\u001b[1;32m     79\u001b[0m         \u001b[0mfeatures\u001b[0m \u001b[0;34m=\u001b[0m \u001b[0mself\u001b[0m\u001b[0;34m.\u001b[0m\u001b[0m_sense\u001b[0m\u001b[0;34m(\u001b[0m\u001b[0mstimuli\u001b[0m\u001b[0;34m=\u001b[0m\u001b[0mstimuli_target\u001b[0m\u001b[0;34m,\u001b[0m \u001b[0msentences\u001b[0m\u001b[0;34m=\u001b[0m\u001b[0msentences\u001b[0m\u001b[0;34m)\u001b[0m\u001b[0;34m\u001b[0m\u001b[0;34m\u001b[0m\u001b[0m\n\u001b[0;32m---> 80\u001b[0;31m         \u001b[0mnext_sentences_logits\u001b[0m\u001b[0;34m,\u001b[0m \u001b[0mnext_sentences\u001b[0m \u001b[0;34m=\u001b[0m \u001b[0mself\u001b[0m\u001b[0;34m.\u001b[0m\u001b[0m_utter\u001b[0m\u001b[0;34m(\u001b[0m\u001b[0mfeatures\u001b[0m\u001b[0;34m=\u001b[0m\u001b[0mfeatures\u001b[0m\u001b[0;34m,\u001b[0m \u001b[0msentences\u001b[0m\u001b[0;34m=\u001b[0m\u001b[0msentences\u001b[0m\u001b[0;34m)\u001b[0m\u001b[0;34m\u001b[0m\u001b[0;34m\u001b[0m\u001b[0m\n\u001b[0m\u001b[1;32m     81\u001b[0m \u001b[0;34m\u001b[0m\u001b[0m\n\u001b[1;32m     82\u001b[0m         \u001b[0;32mif\u001b[0m \u001b[0;34m'gumbel_softmax'\u001b[0m \u001b[0;32min\u001b[0m \u001b[0mgraphtype\u001b[0m\u001b[0;34m:\u001b[0m\u001b[0;34m\u001b[0m\u001b[0;34m\u001b[0m\u001b[0m\n",
      "\u001b[0;32m~/Development/git/ReferentialGym/ReferentialGym/agents/basic_cnn_speaker.py\u001b[0m in \u001b[0;36m_utter\u001b[0;34m(self, features, sentences)\u001b[0m\n\u001b[1;32m    134\u001b[0m         \u001b[0;31m# Utter the next sentences:\u001b[0m\u001b[0;34m\u001b[0m\u001b[0;34m\u001b[0m\u001b[0;34m\u001b[0m\u001b[0m\n\u001b[1;32m    135\u001b[0m         \u001b[0;32mfor\u001b[0m \u001b[0mi\u001b[0m \u001b[0;32min\u001b[0m \u001b[0mrange\u001b[0m\u001b[0;34m(\u001b[0m\u001b[0mself\u001b[0m\u001b[0;34m.\u001b[0m\u001b[0mmax_sentence_length\u001b[0m\u001b[0;34m)\u001b[0m\u001b[0;34m:\u001b[0m\u001b[0;34m\u001b[0m\u001b[0;34m\u001b[0m\u001b[0m\n\u001b[0;32m--> 136\u001b[0;31m             \u001b[0mhiddens\u001b[0m\u001b[0;34m,\u001b[0m \u001b[0mstates\u001b[0m \u001b[0;34m=\u001b[0m \u001b[0mself\u001b[0m\u001b[0;34m.\u001b[0m\u001b[0msymbol_processing\u001b[0m\u001b[0;34m(\u001b[0m\u001b[0minputs\u001b[0m\u001b[0;34m,\u001b[0m \u001b[0mstates\u001b[0m\u001b[0;34m)\u001b[0m\u001b[0;34m\u001b[0m\u001b[0;34m\u001b[0m\u001b[0m\n\u001b[0m\u001b[1;32m    137\u001b[0m             \u001b[0;31m# (batch_size, 1, kwargs['symbol_processing_nbr_hidden_units'])\u001b[0m\u001b[0;34m\u001b[0m\u001b[0;34m\u001b[0m\u001b[0;34m\u001b[0m\u001b[0m\n\u001b[1;32m    138\u001b[0m             \u001b[0minputs\u001b[0m \u001b[0;34m=\u001b[0m \u001b[0mtorch\u001b[0m\u001b[0;34m.\u001b[0m\u001b[0mcat\u001b[0m\u001b[0;34m(\u001b[0m\u001b[0;34m[\u001b[0m\u001b[0membedding_tf_final_outputs\u001b[0m\u001b[0;34m,\u001b[0m\u001b[0mhiddens\u001b[0m\u001b[0;34m]\u001b[0m\u001b[0;34m,\u001b[0m \u001b[0mdim\u001b[0m\u001b[0;34m=\u001b[0m\u001b[0;34m-\u001b[0m\u001b[0;36m1\u001b[0m\u001b[0;34m)\u001b[0m\u001b[0;34m\u001b[0m\u001b[0;34m\u001b[0m\u001b[0m\n",
      "\u001b[0;32m~/anaconda3/envs/TORCH3.6/lib/python3.6/site-packages/torch/nn/modules/module.py\u001b[0m in \u001b[0;36m__call__\u001b[0;34m(self, *input, **kwargs)\u001b[0m\n\u001b[1;32m    491\u001b[0m             \u001b[0mresult\u001b[0m \u001b[0;34m=\u001b[0m \u001b[0mself\u001b[0m\u001b[0;34m.\u001b[0m\u001b[0m_slow_forward\u001b[0m\u001b[0;34m(\u001b[0m\u001b[0;34m*\u001b[0m\u001b[0minput\u001b[0m\u001b[0;34m,\u001b[0m \u001b[0;34m**\u001b[0m\u001b[0mkwargs\u001b[0m\u001b[0;34m)\u001b[0m\u001b[0;34m\u001b[0m\u001b[0;34m\u001b[0m\u001b[0m\n\u001b[1;32m    492\u001b[0m         \u001b[0;32melse\u001b[0m\u001b[0;34m:\u001b[0m\u001b[0;34m\u001b[0m\u001b[0;34m\u001b[0m\u001b[0m\n\u001b[0;32m--> 493\u001b[0;31m             \u001b[0mresult\u001b[0m \u001b[0;34m=\u001b[0m \u001b[0mself\u001b[0m\u001b[0;34m.\u001b[0m\u001b[0mforward\u001b[0m\u001b[0;34m(\u001b[0m\u001b[0;34m*\u001b[0m\u001b[0minput\u001b[0m\u001b[0;34m,\u001b[0m \u001b[0;34m**\u001b[0m\u001b[0mkwargs\u001b[0m\u001b[0;34m)\u001b[0m\u001b[0;34m\u001b[0m\u001b[0;34m\u001b[0m\u001b[0m\n\u001b[0m\u001b[1;32m    494\u001b[0m         \u001b[0;32mfor\u001b[0m \u001b[0mhook\u001b[0m \u001b[0;32min\u001b[0m \u001b[0mself\u001b[0m\u001b[0;34m.\u001b[0m\u001b[0m_forward_hooks\u001b[0m\u001b[0;34m.\u001b[0m\u001b[0mvalues\u001b[0m\u001b[0;34m(\u001b[0m\u001b[0;34m)\u001b[0m\u001b[0;34m:\u001b[0m\u001b[0;34m\u001b[0m\u001b[0;34m\u001b[0m\u001b[0m\n\u001b[1;32m    495\u001b[0m             \u001b[0mhook_result\u001b[0m \u001b[0;34m=\u001b[0m \u001b[0mhook\u001b[0m\u001b[0;34m(\u001b[0m\u001b[0mself\u001b[0m\u001b[0;34m,\u001b[0m \u001b[0minput\u001b[0m\u001b[0;34m,\u001b[0m \u001b[0mresult\u001b[0m\u001b[0;34m)\u001b[0m\u001b[0;34m\u001b[0m\u001b[0;34m\u001b[0m\u001b[0m\n",
      "\u001b[0;32m~/anaconda3/envs/TORCH3.6/lib/python3.6/site-packages/torch/nn/modules/rnn.py\u001b[0m in \u001b[0;36mforward\u001b[0;34m(self, input, hx)\u001b[0m\n\u001b[1;32m    557\u001b[0m             \u001b[0;32mreturn\u001b[0m \u001b[0mself\u001b[0m\u001b[0;34m.\u001b[0m\u001b[0mforward_packed\u001b[0m\u001b[0;34m(\u001b[0m\u001b[0minput\u001b[0m\u001b[0;34m,\u001b[0m \u001b[0mhx\u001b[0m\u001b[0;34m)\u001b[0m\u001b[0;34m\u001b[0m\u001b[0;34m\u001b[0m\u001b[0m\n\u001b[1;32m    558\u001b[0m         \u001b[0;32melse\u001b[0m\u001b[0;34m:\u001b[0m\u001b[0;34m\u001b[0m\u001b[0;34m\u001b[0m\u001b[0m\n\u001b[0;32m--> 559\u001b[0;31m             \u001b[0;32mreturn\u001b[0m \u001b[0mself\u001b[0m\u001b[0;34m.\u001b[0m\u001b[0mforward_tensor\u001b[0m\u001b[0;34m(\u001b[0m\u001b[0minput\u001b[0m\u001b[0;34m,\u001b[0m \u001b[0mhx\u001b[0m\u001b[0;34m)\u001b[0m\u001b[0;34m\u001b[0m\u001b[0;34m\u001b[0m\u001b[0m\n\u001b[0m\u001b[1;32m    560\u001b[0m \u001b[0;34m\u001b[0m\u001b[0m\n\u001b[1;32m    561\u001b[0m \u001b[0;34m\u001b[0m\u001b[0m\n",
      "\u001b[0;32m~/anaconda3/envs/TORCH3.6/lib/python3.6/site-packages/torch/nn/modules/rnn.py\u001b[0m in \u001b[0;36mforward_tensor\u001b[0;34m(self, input, hx)\u001b[0m\n\u001b[1;32m    537\u001b[0m         \u001b[0munsorted_indices\u001b[0m \u001b[0;34m=\u001b[0m \u001b[0;32mNone\u001b[0m\u001b[0;34m\u001b[0m\u001b[0;34m\u001b[0m\u001b[0m\n\u001b[1;32m    538\u001b[0m \u001b[0;34m\u001b[0m\u001b[0m\n\u001b[0;32m--> 539\u001b[0;31m         \u001b[0moutput\u001b[0m\u001b[0;34m,\u001b[0m \u001b[0mhidden\u001b[0m \u001b[0;34m=\u001b[0m \u001b[0mself\u001b[0m\u001b[0;34m.\u001b[0m\u001b[0mforward_impl\u001b[0m\u001b[0;34m(\u001b[0m\u001b[0minput\u001b[0m\u001b[0;34m,\u001b[0m \u001b[0mhx\u001b[0m\u001b[0;34m,\u001b[0m \u001b[0mbatch_sizes\u001b[0m\u001b[0;34m,\u001b[0m \u001b[0mmax_batch_size\u001b[0m\u001b[0;34m,\u001b[0m \u001b[0msorted_indices\u001b[0m\u001b[0;34m)\u001b[0m\u001b[0;34m\u001b[0m\u001b[0;34m\u001b[0m\u001b[0m\n\u001b[0m\u001b[1;32m    540\u001b[0m \u001b[0;34m\u001b[0m\u001b[0m\n\u001b[1;32m    541\u001b[0m         \u001b[0;32mreturn\u001b[0m \u001b[0moutput\u001b[0m\u001b[0;34m,\u001b[0m \u001b[0mself\u001b[0m\u001b[0;34m.\u001b[0m\u001b[0mpermute_hidden\u001b[0m\u001b[0;34m(\u001b[0m\u001b[0mhidden\u001b[0m\u001b[0;34m,\u001b[0m \u001b[0munsorted_indices\u001b[0m\u001b[0;34m)\u001b[0m\u001b[0;34m\u001b[0m\u001b[0;34m\u001b[0m\u001b[0m\n",
      "\u001b[0;32m~/anaconda3/envs/TORCH3.6/lib/python3.6/site-packages/torch/nn/modules/rnn.py\u001b[0m in \u001b[0;36mforward_impl\u001b[0;34m(self, input, hx, batch_sizes, max_batch_size, sorted_indices)\u001b[0m\n\u001b[1;32m    520\u001b[0m         \u001b[0;32mif\u001b[0m \u001b[0mbatch_sizes\u001b[0m \u001b[0;32mis\u001b[0m \u001b[0;32mNone\u001b[0m\u001b[0;34m:\u001b[0m\u001b[0;34m\u001b[0m\u001b[0;34m\u001b[0m\u001b[0m\n\u001b[1;32m    521\u001b[0m             result = _VF.lstm(input, hx, self._get_flat_weights(), self.bias, self.num_layers,\n\u001b[0;32m--> 522\u001b[0;31m                               self.dropout, self.training, self.bidirectional, self.batch_first)\n\u001b[0m\u001b[1;32m    523\u001b[0m         \u001b[0;32melse\u001b[0m\u001b[0;34m:\u001b[0m\u001b[0;34m\u001b[0m\u001b[0;34m\u001b[0m\u001b[0m\n\u001b[1;32m    524\u001b[0m             result = _VF.lstm(input, batch_sizes, hx, self._get_flat_weights(), self.bias,\n",
      "\u001b[0;31mRuntimeError\u001b[0m: CUDA out of memory. Tried to allocate 538.00 MiB (GPU 0; 5.93 GiB total capacity; 1.75 GiB already allocated; 57.75 MiB free; 41.80 MiB cached)"
     ]
    }
   ],
   "source": [
    "refgame.train(prototype_speaker=bspeaker, \n",
    "              prototype_listener=blistener, \n",
    "              nbr_epoch=nbr_epoch,\n",
    "              logger=logger,\n",
    "              verbose_period=100)"
   ]
  },
  {
   "cell_type": "code",
   "execution_count": null,
   "metadata": {},
   "outputs": [],
   "source": []
  }
 ],
 "metadata": {
  "kernelspec": {
   "display_name": "Python 3",
   "language": "python",
   "name": "python3"
  },
  "language_info": {
   "codemirror_mode": {
    "name": "ipython",
    "version": 3
   },
   "file_extension": ".py",
   "mimetype": "text/x-python",
   "name": "python",
   "nbconvert_exporter": "python",
   "pygments_lexer": "ipython3",
   "version": "3.6.8"
  }
 },
 "nbformat": 4,
 "nbformat_minor": 2
}
