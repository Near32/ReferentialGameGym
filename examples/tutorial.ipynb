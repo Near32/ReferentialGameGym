{
  "nbformat": 4,
  "nbformat_minor": 5,
  "metadata": {
    "kernelspec": {
      "display_name": "Python 3",
      "language": "python",
      "name": "python3"
    },
    "language_info": {
      "codemirror_mode": {
        "name": "ipython",
        "version": 3
      },
      "file_extension": ".py",
      "mimetype": "text/x-python",
      "name": "python",
      "nbconvert_exporter": "python",
      "pygments_lexer": "ipython3",
      "version": "3.7.9"
    },
    "colab": {
      "name": "tutorial.ipynb",
      "provenance": []
    },
    "accelerator": "GPU"
  },
  "cells": [
    {
      "cell_type": "markdown",
      "metadata": {
        "id": "defensive-designation"
      },
      "source": [
        "# Installation"
      ],
      "id": "defensive-designation"
    },
    {
      "cell_type": "code",
      "metadata": {
        "id": "CnFOUyQPoIUm",
        "colab": {
          "base_uri": "https://localhost:8080/"
        },
        "outputId": "89e77348-98cb-4dab-d5d5-1e1c91634178"
      },
      "source": [
        "!git clone https://github.com/Near32/ReferentialGym.git ; cd ReferentialGym; git checkout master; git pull; git status; pip install -e . "
      ],
      "id": "CnFOUyQPoIUm",
      "execution_count": 2,
      "outputs": [
        {
          "output_type": "stream",
          "text": [
            "fatal: destination path 'ReferentialGym' already exists and is not an empty directory.\n",
            "Already on 'master'\n",
            "Your branch is up to date with 'origin/master'.\n",
            "remote: Enumerating objects: 12, done.\u001b[K\n",
            "remote: Counting objects: 100% (12/12), done.\u001b[K\n",
            "remote: Compressing objects: 100% (12/12), done.\u001b[K\n",
            "remote: Total 12 (delta 2), reused 0 (delta 0), pack-reused 0\u001b[K\n",
            "Unpacking objects: 100% (12/12), done.\n",
            "From https://github.com/Near32/ReferentialGym\n",
            "   4cca467..cf128a4  master     -> origin/master\n",
            "Updating 4cca467..cf128a4\n",
            "Fast-forward\n",
            " ReferentialGym/datasets/__init__.py |    8 \u001b[32m+\u001b[m\u001b[31m-\u001b[m\n",
            " examples/tutorial.ipynb             | 4727 \u001b[32m++++++++++++++++++\u001b[m\u001b[31m-----------------\u001b[m\n",
            " setup.py                            |   32 \u001b[32m+\u001b[m\u001b[31m-\u001b[m\n",
            " 3 files changed, 2522 insertions(+), 2245 deletions(-)\n",
            "On branch master\n",
            "Your branch is up to date with 'origin/master'.\n",
            "\n",
            "nothing to commit, working tree clean\n",
            "Obtaining file:///content/ReferentialGym\n",
            "Requirement already satisfied: tqdm in /usr/local/lib/python3.6/dist-packages (from ReferentialGym==0.0.1) (4.41.1)\n",
            "Requirement already satisfied: numpy in /usr/local/lib/python3.6/dist-packages (from ReferentialGym==0.0.1) (1.19.5)\n",
            "Requirement already satisfied: scipy in /usr/local/lib/python3.6/dist-packages (from ReferentialGym==0.0.1) (1.4.1)\n",
            "Requirement already satisfied: scikit-image in /usr/local/lib/python3.6/dist-packages (from ReferentialGym==0.0.1) (0.16.2)\n",
            "Requirement already satisfied: scikit-learn==0.23 in /usr/local/lib/python3.6/dist-packages (from ReferentialGym==0.0.1) (0.23.0)\n",
            "Requirement already satisfied: h5py in /usr/local/lib/python3.6/dist-packages (from ReferentialGym==0.0.1) (2.10.0)\n",
            "Requirement already satisfied: opencv-python in /usr/local/lib/python3.6/dist-packages (from ReferentialGym==0.0.1) (4.1.2.30)\n",
            "Requirement already satisfied: torch>=1.4 in /usr/local/lib/python3.6/dist-packages (from ReferentialGym==0.0.1) (1.4.0)\n",
            "Requirement already satisfied: torchvision>=0.5.0 in /usr/local/lib/python3.6/dist-packages (from ReferentialGym==0.0.1) (0.5.0)\n",
            "Requirement already satisfied: tensorboardX in /usr/local/lib/python3.6/dist-packages (from ReferentialGym==0.0.1) (2.1)\n",
            "Requirement already satisfied: matplotlib in /usr/local/lib/python3.6/dist-packages (from ReferentialGym==0.0.1) (3.2.2)\n",
            "Requirement already satisfied: docopt in /usr/local/lib/python3.6/dist-packages (from ReferentialGym==0.0.1) (0.6.2)\n",
            "Requirement already satisfied: pycocotools in /usr/local/lib/python3.6/dist-packages (from ReferentialGym==0.0.1) (2.0.2)\n",
            "Requirement already satisfied: pytest in /usr/local/lib/python3.6/dist-packages (from ReferentialGym==0.0.1) (3.6.4)\n",
            "Requirement already satisfied: pillow>=4.3.0 in /usr/local/lib/python3.6/dist-packages (from scikit-image->ReferentialGym==0.0.1) (7.0.0)\n",
            "Requirement already satisfied: PyWavelets>=0.4.0 in /usr/local/lib/python3.6/dist-packages (from scikit-image->ReferentialGym==0.0.1) (1.1.1)\n",
            "Requirement already satisfied: networkx>=2.0 in /usr/local/lib/python3.6/dist-packages (from scikit-image->ReferentialGym==0.0.1) (2.5)\n",
            "Requirement already satisfied: imageio>=2.3.0 in /usr/local/lib/python3.6/dist-packages (from scikit-image->ReferentialGym==0.0.1) (2.4.1)\n",
            "Requirement already satisfied: threadpoolctl>=2.0.0 in /usr/local/lib/python3.6/dist-packages (from scikit-learn==0.23->ReferentialGym==0.0.1) (2.1.0)\n",
            "Requirement already satisfied: joblib>=0.11 in /usr/local/lib/python3.6/dist-packages (from scikit-learn==0.23->ReferentialGym==0.0.1) (1.0.0)\n",
            "Requirement already satisfied: six in /usr/local/lib/python3.6/dist-packages (from h5py->ReferentialGym==0.0.1) (1.15.0)\n",
            "Requirement already satisfied: protobuf>=3.8.0 in /usr/local/lib/python3.6/dist-packages (from tensorboardX->ReferentialGym==0.0.1) (3.12.4)\n",
            "Requirement already satisfied: kiwisolver>=1.0.1 in /usr/local/lib/python3.6/dist-packages (from matplotlib->ReferentialGym==0.0.1) (1.3.1)\n",
            "Requirement already satisfied: python-dateutil>=2.1 in /usr/local/lib/python3.6/dist-packages (from matplotlib->ReferentialGym==0.0.1) (2.8.1)\n",
            "Requirement already satisfied: pyparsing!=2.0.4,!=2.1.2,!=2.1.6,>=2.0.1 in /usr/local/lib/python3.6/dist-packages (from matplotlib->ReferentialGym==0.0.1) (2.4.7)\n",
            "Requirement already satisfied: cycler>=0.10 in /usr/local/lib/python3.6/dist-packages (from matplotlib->ReferentialGym==0.0.1) (0.10.0)\n",
            "Requirement already satisfied: setuptools>=18.0 in /usr/local/lib/python3.6/dist-packages (from pycocotools->ReferentialGym==0.0.1) (51.3.3)\n",
            "Requirement already satisfied: cython>=0.27.3 in /usr/local/lib/python3.6/dist-packages (from pycocotools->ReferentialGym==0.0.1) (0.29.21)\n",
            "Requirement already satisfied: pluggy<0.8,>=0.5 in /usr/local/lib/python3.6/dist-packages (from pytest->ReferentialGym==0.0.1) (0.7.1)\n",
            "Requirement already satisfied: more-itertools>=4.0.0 in /usr/local/lib/python3.6/dist-packages (from pytest->ReferentialGym==0.0.1) (8.6.0)\n",
            "Requirement already satisfied: attrs>=17.4.0 in /usr/local/lib/python3.6/dist-packages (from pytest->ReferentialGym==0.0.1) (20.3.0)\n",
            "Requirement already satisfied: atomicwrites>=1.0 in /usr/local/lib/python3.6/dist-packages (from pytest->ReferentialGym==0.0.1) (1.4.0)\n",
            "Requirement already satisfied: py>=1.5.0 in /usr/local/lib/python3.6/dist-packages (from pytest->ReferentialGym==0.0.1) (1.10.0)\n",
            "Requirement already satisfied: decorator>=4.3.0 in /usr/local/lib/python3.6/dist-packages (from networkx>=2.0->scikit-image->ReferentialGym==0.0.1) (4.4.2)\n",
            "Installing collected packages: ReferentialGym\n",
            "  Found existing installation: ReferentialGym 0.0.1\n",
            "    Can't uninstall 'ReferentialGym'. No files were found to uninstall.\n",
            "  Running setup.py develop for ReferentialGym\n",
            "Successfully installed ReferentialGym\n"
          ],
          "name": "stdout"
        }
      ]
    },
    {
      "cell_type": "markdown",
      "metadata": {
        "id": "Xh_4Nnh0n1zh"
      },
      "source": [
        "IMPORTANT: \n",
        "Before continuing any further, please restart the kernel (Runtime->restart runtime) in order to make the installed packaged available."
      ],
      "id": "Xh_4Nnh0n1zh"
    },
    {
      "cell_type": "code",
      "metadata": {
        "id": "prostate-reference",
        "colab": {
          "base_uri": "https://localhost:8080/"
        },
        "outputId": "9c45466a-472c-4370-bf2e-11aafc0bb54d"
      },
      "source": [
        "import ReferentialGym"
      ],
      "id": "prostate-reference",
      "execution_count": 1,
      "outputs": [
        {
          "output_type": "stream",
          "text": [
            "During importation of 3DShapesPyBulletDataset:No module named 'pybullet'\n",
            "Please install pybullet if you want to use the 3DShapesPyBulletDataset.\n",
            "During importation of MineRLDataset:No module named 'minerl'\n",
            "Please install minerl if you want to use the MineRLDataset.\n"
          ],
          "name": "stdout"
        }
      ]
    },
    {
      "cell_type": "markdown",
      "metadata": {
        "id": "appointed-covering"
      },
      "source": [
        "# Datasets\n",
        "\n",
        "Eventhough the ReferentialGym framework is able to accomodate any dataset that uses the PyTorch dataset interface (see this [list](https://pytorch.org/docs/stable/torchvision/datasets.html) for some examples provided by PyTorch), some datasets are more interesting than others to study **language emergence and grounding**.\n",
        "\n",
        "In this section, we detail the different visual datasets that are available out-of-the-box with the ReferentialGym framework and that propose an interesting challenge for language emergence."
      ],
      "id": "appointed-covering"
    },
    {
      "cell_type": "markdown",
      "metadata": {
        "id": "incorporate-arthur"
      },
      "source": [
        "## 3DShapes (PyBullet):\n",
        "\n",
        "In the paper [Compositional Obverter Communication Learning From Raw Visual Input](https://arxiv.org/abs/1804.02341), we are introduced to a dataset of 3D shapes that are procedurally generated from the following list of latent factors of variations:\n",
        "\n",
        "1. Color: (blue, red, white, gray, yellow, green, cyan, magenta) (8 values)\n",
        "2. Shapes: (box, sphere, cylinder, capsule, ellipsoid) (5 values)\n",
        "3. (Implicit) Viewpoint: randomly sampled at each sample generation (i.e. samples (blue, box, viewpoint 1) and (red, box, viewpoint 1) **do not necessarily show a red/blue box under the same 3D viewpoint**, in spite of the indexing) - 100 random values per (color,shape) tuple. \n",
        "\n",
        "While the original dataset was not open-sourced (nor was the paper's code, but a replication can be found [here](https://github.com/benbogin/obverter)), the framework provides a replication of it using the [PyBulet](https://pybullet.org/wordpress/) library, and making the observation viewpoint no longer sampled randomly each time a new visual sample is made, but rather sampling randomly a set of values only once, resulting in the following list of (explicit) latent factors of variations:\n",
        "\n",
        "1. Color: (Black, Red, Blue, Green, Brown, Purple, Light Gray, Light Green, Light Blue, Cyan, Orange, Yellow, Tan, Pink, Dark Gray) (at most 15 values)\n",
        "2. Shapes: (cylinder, capsule, sphere, cube, torus, teddy, duck) (at most 7 values)\n",
        "3. Viewpoint: randomly sampled upon dataset creation (i.e. samples with the same viewpoint index **do show the relevant objects under the very same 3D viewpoint**) - parameterizable (default=100) number of random samples.\n",
        "\n",
        "\n"
      ],
      "id": "incorporate-arthur"
    },
    {
      "cell_type": "markdown",
      "metadata": {
        "id": "fewer-relative"
      },
      "source": [
        "### Building a dataset with 3 colors, 7 shapes, 2 viewpoints:\n",
        "Make sure to install PyBullet:"
      ],
      "id": "fewer-relative"
    },
    {
      "cell_type": "code",
      "metadata": {
        "id": "voluntary-restoration",
        "outputId": "a8881319-20be-4d2f-d67c-19062a7f1b4b",
        "colab": {
          "base_uri": "https://localhost:8080/"
        }
      },
      "source": [
        "!pip install pybullet"
      ],
      "id": "voluntary-restoration",
      "execution_count": 2,
      "outputs": [
        {
          "output_type": "stream",
          "text": [
            "Collecting pybullet\n",
            "\u001b[?25l  Downloading https://files.pythonhosted.org/packages/91/39/c56526c130f092d0123c471c1a749edf45cb74e97b4cdf6a5230a0ce4054/pybullet-3.0.8-cp36-cp36m-manylinux1_x86_64.whl (76.6MB)\n",
            "\u001b[K     |████████████████████████████████| 76.6MB 1.2MB/s \n",
            "\u001b[?25hInstalling collected packages: pybullet\n",
            "Successfully installed pybullet-3.0.8\n"
          ],
          "name": "stdout"
        }
      ]
    },
    {
      "cell_type": "markdown",
      "metadata": {
        "id": "behavioral-snapshot"
      },
      "source": [
        "Restart the runtime and then generate the dataset:"
      ],
      "id": "behavioral-snapshot"
    },
    {
      "cell_type": "code",
      "metadata": {
        "id": "znotXAJtrXh4",
        "outputId": "0f6e084a-2c56-4055-aa34-c7d5ef3fc64f",
        "colab": {
          "base_uri": "https://localhost:8080/"
        }
      },
      "source": [
        "import ReferentialGym"
      ],
      "id": "znotXAJtrXh4",
      "execution_count": 1,
      "outputs": [
        {
          "output_type": "stream",
          "text": [
            "During importation of MineRLDataset:No module named 'minerl'\n",
            "Please install minerl if you want to use the MineRLDataset.\n"
          ],
          "name": "stdout"
        }
      ]
    },
    {
      "cell_type": "code",
      "metadata": {
        "id": "revolutionary-today",
        "outputId": "2c68cbe1-6a76-4ee6-d3de-25f2a750c602",
        "colab": {
          "base_uri": "https://localhost:8080/"
        }
      },
      "source": [
        "# Data augmentation:\n",
        "stimulus_resize_dim = 64\n",
        "normalize_rgb_values = False \n",
        "rgb_scaler = 1.0 #255.0\n",
        "from ReferentialGym.datasets.utils import ResizeNormalize\n",
        "transform = ResizeNormalize(\n",
        "    size=stimulus_resize_dim, \n",
        "    normalize_rgb_values=normalize_rgb_values,\n",
        "    rgb_scaler=rgb_scaler\n",
        ")\n",
        "\n",
        "img_size = 64\n",
        "nb_shapes = 7\n",
        "nb_colors = 3\n",
        "nb_samples = 2\n",
        "nb_train_colors = 2\n",
        "shuffle_seed = '40'\n",
        "train_test_split_strategy = f'compositional-{shuffle_seed}-nb_train_colors_{nb_train_colors}' \n",
        "\n",
        "root = './datasets/3DShapePyBullet-dataset'\n",
        "root += f'imgS{img_size}-shapes{nb_shapes}-colors{nb_colors}-samples{nb_samples}'\n",
        "\n",
        "train_dataset = ReferentialGym.datasets._3DShapesPyBulletDataset(\n",
        "    root=root, \n",
        "    train=True, \n",
        "    transform=transform,\n",
        "    generate=True,\n",
        "    img_size=img_size,\n",
        "    nb_shapes=nb_shapes,\n",
        "    nb_colors=nb_colors,\n",
        "    nb_samples=nb_samples,\n",
        "    split_strategy=train_test_split_strategy,\n",
        ")\n",
        "\n",
        "test_dataset = ReferentialGym.datasets._3DShapesPyBulletDataset(\n",
        "    root=root, \n",
        "    train=False, \n",
        "    transform=transform,\n",
        "    generate=False,\n",
        "    img_size=img_size,\n",
        "    nb_shapes=nb_shapes,\n",
        "    nb_colors=nb_colors,\n",
        "    nb_samples=nb_samples,\n",
        "    split_strategy=train_test_split_strategy,\n",
        ")"
      ],
      "id": "revolutionary-today",
      "execution_count": 44,
      "outputs": [
        {
          "output_type": "stream",
          "text": [
            "building dataset...\n",
            "saving datasets...\n",
            "datasets saved at ./datasets/3DShapePyBullet-datasetimgS64-shapes7-colors3-samples2/3d_shapes_pybullet_dataset.pickle\n",
            "Dataset Size: 28 out of 42: 66.66666666666667%.\n",
            "Dataset loaded : OK.\n",
            "Dataset Size: 14 out of 42: 33.333333333333336%.\n",
            "Dataset loaded : OK.\n"
          ],
          "name": "stdout"
        }
      ]
    },
    {
      "cell_type": "code",
      "metadata": {
        "id": "patient-reset",
        "outputId": "800267b9-cb65-4c7d-d8ee-1b2ca59bacfc",
        "colab": {
          "base_uri": "https://localhost:8080/"
        }
      },
      "source": [
        "train_dataset._generate_all()"
      ],
      "id": "patient-reset",
      "execution_count": 3,
      "outputs": [
        {
          "output_type": "stream",
          "text": [
            "100%|██████████| 28/28 [00:00<00:00, 119.26it/s]"
          ],
          "name": "stderr"
        },
        {
          "output_type": "stream",
          "text": [
            "saving datasets...\n",
            "Datasets saved at ./datasets/3DShapePyBullet-datasetimgS64-shapes7-colors3-samples2/3d_shapes_pybullet_dataset.pickle\n"
          ],
          "name": "stdout"
        },
        {
          "output_type": "stream",
          "text": [
            "\n"
          ],
          "name": "stderr"
        }
      ]
    },
    {
      "cell_type": "code",
      "metadata": {
        "id": "polar-hostel",
        "outputId": "e13a254a-5232-4b75-b5be-696ec77d1e4e",
        "colab": {
          "base_uri": "https://localhost:8080/"
        }
      },
      "source": [
        "test_dataset._generate_all()"
      ],
      "id": "polar-hostel",
      "execution_count": 4,
      "outputs": [
        {
          "output_type": "stream",
          "text": [
            "100%|██████████| 14/14 [00:00<00:00, 122.55it/s]"
          ],
          "name": "stderr"
        },
        {
          "output_type": "stream",
          "text": [
            "saving datasets...\n",
            "Datasets saved at ./datasets/3DShapePyBullet-datasetimgS64-shapes7-colors3-samples2/3d_shapes_pybullet_dataset.pickle\n"
          ],
          "name": "stdout"
        },
        {
          "output_type": "stream",
          "text": [
            "\n"
          ],
          "name": "stderr"
        }
      ]
    },
    {
      "cell_type": "markdown",
      "metadata": {
        "id": "precious-reception"
      },
      "source": [
        "The generated dataset looks as follows:"
      ],
      "id": "precious-reception"
    },
    {
      "cell_type": "code",
      "metadata": {
        "id": "encouraging-broad",
        "outputId": "b2b0605f-e87c-4565-8c24-69b77bac434a",
        "colab": {
          "base_uri": "https://localhost:8080/"
        }
      },
      "source": [
        "import torch\n",
        "import torchvision\n",
        "\n",
        "train_images = torch.stack([torch.from_numpy(t) for t in train_dataset.imgs.values()], axis=0)\n",
        "print(train_images.shape)\n",
        "train_grid = torchvision.utils.make_grid(train_images)\n"
      ],
      "id": "encouraging-broad",
      "execution_count": 5,
      "outputs": [
        {
          "output_type": "stream",
          "text": [
            "torch.Size([28, 3, 64, 64])\n"
          ],
          "name": "stdout"
        }
      ]
    },
    {
      "cell_type": "code",
      "metadata": {
        "id": "modified-edgar",
        "outputId": "88ab3739-8979-4ea6-ba02-094131388dff",
        "colab": {
          "base_uri": "https://localhost:8080/"
        }
      },
      "source": [
        "test_images = torch.stack([torch.from_numpy(t) for t in test_dataset.imgs.values()], axis=0)\n",
        "print(test_images.shape)\n",
        "test_grid = torchvision.utils.make_grid(test_images)"
      ],
      "id": "modified-edgar",
      "execution_count": 6,
      "outputs": [
        {
          "output_type": "stream",
          "text": [
            "torch.Size([14, 3, 64, 64])\n"
          ],
          "name": "stdout"
        }
      ]
    },
    {
      "cell_type": "code",
      "metadata": {
        "id": "reduced-sound",
        "outputId": "0d405dbb-4abe-48a3-809c-1a746fcc689c",
        "colab": {
          "base_uri": "https://localhost:8080/"
        }
      },
      "source": [
        "print(train_grid.shape, test_grid.shape)\n",
        "train_test_grids = torch.cat([train_grid, test_grid], axis=1)"
      ],
      "id": "reduced-sound",
      "execution_count": 7,
      "outputs": [
        {
          "output_type": "stream",
          "text": [
            "torch.Size([3, 266, 530]) torch.Size([3, 134, 530])\n"
          ],
          "name": "stdout"
        }
      ]
    },
    {
      "cell_type": "code",
      "metadata": {
        "id": "departmental-underwear"
      },
      "source": [
        "import matplotlib.pyplot as plt\n",
        "import numpy as np \n",
        "import cv2\n",
        "\n",
        "def plot(img, resize_scaler=None):\n",
        "    npimg = img.numpy()\n",
        "    npimg = np.transpose(npimg, (2, 1, 0))\n",
        "    if resize_scaler is not None:\n",
        "        #width = int(img.shape[1] * scale_percent / 100)\n",
        "        #height = int(img.shape[0] * scale_percent / 100)\n",
        "        #dim = (width, height)\n",
        "        newsize = (resize_scaler*npimg.shape[1], resize_scaler*npimg.shape[0])\n",
        "        print(newsize)\n",
        "        npimg = cv2.resize(npimg, newsize, interpolation=cv2.INTER_CUBIC)\n",
        "\n",
        "    plt.imshow(npimg)"
      ],
      "id": "departmental-underwear",
      "execution_count": 8,
      "outputs": []
    },
    {
      "cell_type": "code",
      "metadata": {
        "id": "inclusive-davis",
        "outputId": "774f6bd7-eff4-4c87-d78f-af8e79587cd0",
        "colab": {
          "base_uri": "https://localhost:8080/",
          "height": 286
        }
      },
      "source": [
        "%matplotlib inline \n",
        "#the following provides an interactive plot,\n",
        "# but it is not available on colab, only on jupyter notebook:\n",
        "#%matplotlib notebook\n",
        "\n",
        "plot(train_test_grids, resize_scaler=10)\n"
      ],
      "id": "inclusive-davis",
      "execution_count": 14,
      "outputs": [
        {
          "output_type": "stream",
          "text": [
            "(4000, 5300)\n"
          ],
          "name": "stdout"
        },
        {
          "output_type": "display_data",
          "data": {
            "image/png": "[encoded data removed]",
            "text/plain": [
              "<Figure size 432x288 with 1 Axes>"
            ]
          },
          "metadata": {
            "tags": [],
            "needs_background": "light"
          }
        }
      ]
    },
    {
      "cell_type": "markdown",
      "metadata": {
        "id": "normal-agriculture"
      },
      "source": [
        "Note that the `train_test_split_strategy` used here aims to test for **zero-shot compositionality**, as presented in section 3.3 of the original paper. "
      ],
      "id": "normal-agriculture"
    },
    {
      "cell_type": "markdown",
      "metadata": {
        "id": "annual-gasoline"
      },
      "source": [
        "---"
      ],
      "id": "annual-gasoline"
    },
    {
      "cell_type": "markdown",
      "metadata": {
        "id": "interesting-lucas"
      },
      "source": [
        "---"
      ],
      "id": "interesting-lucas"
    },
    {
      "cell_type": "markdown",
      "metadata": {
        "id": "considerable-williams"
      },
      "source": [
        "## Other relevant dataset: dSprites\n",
        "The [dSprites dataset](https://github.com/deepmind/dsprites-dataset) drove extensive research on the disentanglement properties of learned representations, especially with unsupervised learning methods. It consits of 2D shapes procedurally generated some latent factors of variations:\n",
        "\n",
        "1. Color: white\n",
        "2. Shape: square, ellipse, heart\n",
        "3. Scale: 6 values linearly spaced in [0.5, 1]\n",
        "4. Orientation: 40 values in [0, 2 pi]\n",
        "5. Position X: 32 values in [0, 1]\n",
        "6. Position Y: 32 values in [0, 1]\n",
        "\n",
        "![GIF of the dataset](https://github.com/deepmind/dsprites-dataset/raw/master/dsprites.gif)\n",
        "\n",
        "In the above GIF, we can see that there are some visual representations whose latent encodings may be different from each other but remain visually undistinguishable. For instance, the white ellipses with orientations of either 0 or pi are visually indistinguishable, similarly for the square with orientations 0, pi/2, pi, 3 pi/2...\n",
        "Therefore, in order to use the dSprites dataset for language emergence, it is important to either restrict the set of valid values on the orientation latent factor, or to constrain oneself to the use of heart shape solely.\n",
        "\n",
        "Any of the later can be done using the ReferentialGym framework via the `train_test_split_strategy` argument.\n",
        "For instance, the value `combinatorial2-Y-4-2-X-4-2-Orientation-40-N-Scale-6-N-Shape-3-N` restricts as follows:\n",
        "\n",
        "1. Color: white\n",
        "2. Shape: at training time: heart (index(/divider)=3, from the ordered list) / at test time: \"N\"o difference.\n",
        "3. Scale: at training time: taking 1 value every 6 (divider=6), i.e. only 1 value used out of the 6 possible values / at test time: \"N\"o difference.\n",
        "4. Orientation: at training time: taking 1 value every 40 (divider=40), i.e. only 1 value used out of the 40 possible values / at test time: \"N\"o difference.\n",
        "5. Position X: at training time: taking 1 value every 4 (divider=4), i.e. only 8 values used out of the 32 possible values / at test time: taking 1 value every 2 (divider=2) out of the training set, and marking those values as testing-purpose values.\n",
        "6. Position Y: at training time: taking 1 value every 4 (divider=4), i.e. only 8 values used out of the 32 possible values / at test time: taking 1 value every 2 (divider=2) out of the training set, and marking those values as testing-purpose values. \n",
        "\n",
        "Finally, `combinatorial2` implies that samples whose latent factor representation contains \"2\" or more testing-purpose values will be held out from the training dataset and made a member of the testing dataset. For more details, please refer to this [zoo folder](https://github.com/Near32/ReferentialGym/tree/master/zoo/referential-games%2Bst-gs)."
      ],
      "id": "considerable-williams"
    },
    {
      "cell_type": "markdown",
      "metadata": {
        "id": "governmental-baghdad"
      },
      "source": [
        "---"
      ],
      "id": "governmental-baghdad"
    },
    {
      "cell_type": "markdown",
      "metadata": {
        "id": "median-placement"
      },
      "source": [
        "### Reproduciability: seed and cudnn benchmark"
      ],
      "id": "median-placement"
    },
    {
      "cell_type": "code",
      "metadata": {
        "id": "entire-dispute"
      },
      "source": [
        "import torch\n",
        "import numpy as np\n",
        "import random \n",
        "\n",
        "seed = 10\n",
        "fast = False \n",
        "\n",
        "# Following: https://pytorch.org/docs/stable/notes/randomness.html\n",
        "torch.manual_seed(seed)\n",
        "if hasattr(torch.backends, \"cudnn\") and not(fast):\n",
        "    torch.backends.cudnn.deterministic = True\n",
        "    torch.backends.cudnn.benchmark = False\n",
        "\n",
        "np.random.seed(seed)\n",
        "random.seed(seed)"
      ],
      "id": "entire-dispute",
      "execution_count": 15,
      "outputs": []
    },
    {
      "cell_type": "markdown",
      "metadata": {
        "id": "adequate-citizen"
      },
      "source": [
        "---"
      ],
      "id": "adequate-citizen"
    },
    {
      "cell_type": "markdown",
      "metadata": {
        "id": "popular-recall"
      },
      "source": [
        "# Create a Referential Game with ReferentialGym:\n",
        "\n",
        "The framework provides a common implementation for many features and constraints of the main referential game variants that can be found in the surveyed literature to date, thus allowing for a\n",
        "more systematic comparison between approaches. The following paper details a nomenclature relevant to the current framework as well as the philosophy behind it:\n",
        "\n",
        "> [ReferentialGym: A Nomenclature and Framework for Language Emergence & Grounding in (Visual) Referential Games](https://arxiv.org/abs/2012.09486) (or [workshop link 2](https://drive.google.com/file/d/1p6rgNcvtug7UuVHrEgDIZNI6nYILkqZR/view?usp=sharing))\n",
        "> Kevin Denamganaï and James Alfred Walker.\n",
        "> [4th NeurIPS Workshop on Emergent Communication: \"Talking with Strangers: Zero-Shot Emergent Communication\", 2020](https://sites.google.com/view/emecom2020).\n",
        "\n",
        "In the following section, the instantiation of a descriptive, object-centric, partial-observability, discriminative referential game will be detailed:"
      ],
      "id": "popular-recall"
    },
    {
      "cell_type": "code",
      "metadata": {
        "id": "ready-brooklyn"
      },
      "source": [
        "import ReferentialGym as rg\n",
        "\n",
        "nbr_train_distractors = 4\n",
        "nbr_test_distractors = 4\n",
        "\n",
        "distractor_sampling = \"uniform\"\n",
        "\n",
        "descriptive_game = True\n",
        "descriptive_ratio = 1-(1/(nbr_train_distractors+2))\n",
        "\n",
        "object_centric = True \n",
        "\n",
        "batch_size = 8\n",
        "\n",
        "dataloader_num_worker = 4\n",
        "# Already specified above when creating the data augmentation transformation.\n",
        "#stimulus_resize_dim = 64 \n",
        "\n",
        "use_cuda = True\n",
        "\n",
        "rg_config = {\n",
        "    \"observability\":            \"partial\",\n",
        "    \"nbr_communication_round\":  1,\n",
        "    \"nbr_distractors\":          {\"train\":nbr_train_distractors, \"test\":nbr_test_distractors},\n",
        "    \"distractor_sampling\":      distractor_sampling,\n",
        "    \n",
        "    \"descriptive\":              descriptive_game,\n",
        "    \"descriptive_target_ratio\": descriptive_ratio,\n",
        "\n",
        "    \"object_centric\":           object_centric,\n",
        "    \"nbr_stimulus\":             1, #static images, not video...\n",
        "\n",
        "    \"batch_size\":               batch_size,\n",
        "    \"dataloader_num_worker\":    dataloader_num_worker,\n",
        "    \"stimulus_depth_dim\":       3,\n",
        "    \"stimulus_resize_dim\":      stimulus_resize_dim, \n",
        "\n",
        "    \"learning_rate\":            1e-4,\n",
        "    \"adam_eps\":                 1e-8,\n",
        "    \"dropout_prob\":             0.0,\n",
        "    \"embedding_dropout_prob\":   0.0,\n",
        "\n",
        "    \"with_gradient_clip\":       False,\n",
        "    \"gradient_clip\":            1e0,\n",
        "\n",
        "    \"use_homoscedastic_multitasks_loss\": False,\n",
        "    \"use_feat_converter\":       False,\n",
        "\n",
        "    \"use_curriculum_nbr_distractors\": False,\n",
        "    \"curriculum_distractors_window_size\": 25, #100,\n",
        "\n",
        "    \"nbr_experience_repetition\":  1,\n",
        "\n",
        "    \"with_utterance_penalization\":  False,\n",
        "    \"with_utterance_promotion\":     False,\n",
        "    \"utterance_oov_prob\":  0.0,  \n",
        "    # Expected penalty of observing out-of-vocabulary words. \n",
        "    # The greater this value, the greater the loss/cost.\n",
        "    \"utterance_factor\":    1e-2,\n",
        "\n",
        "    \"with_speaker_entropy_regularization\":  False,\n",
        "    \"with_listener_entropy_regularization\":  False,\n",
        "    \"entropy_regularization_factor\":    -1e-2,\n",
        "\n",
        "    \"with_mdl_principle\":       False,\n",
        "    \"mdl_principle_factor\":     5e-2,\n",
        "\n",
        "    \"with_weight_maxl1_loss\":   False,\n",
        "\n",
        "    \"use_cuda\":                 use_cuda,\n",
        "\n",
        "    \"train_transform\":            transform,\n",
        "    \"test_transform\":             transform,\n",
        "    }\n"
      ],
      "id": "ready-brooklyn",
      "execution_count": 60,
      "outputs": []
    },
    {
      "cell_type": "code",
      "metadata": {
        "id": "overall-drawing"
      },
      "source": [
        "## Logger:\n",
        "from ReferentialGym.utils import statsLogger\n",
        "save_path = \"./tutorial/\"\n",
        "logger = statsLogger(path=save_path, dumpPeriod=100)\n",
        "\n",
        "rg_config[\"save_path\"] = save_path"
      ],
      "id": "overall-drawing",
      "execution_count": 61,
      "outputs": []
    },
    {
      "cell_type": "markdown",
      "metadata": {
        "id": "infrared-marathon"
      },
      "source": [
        "### Communication Channel: \n",
        "\n",
        "We will focus on a communication channel parameterized with the [Straight-Through](https://arxiv.org/abs/1705.11192) [Gumbel-Softmax](https://arxiv.org/abs/1611.01144) approach, with a maximum sentence length `L=5` and a vocabulary size `V=20`:"
      ],
      "id": "infrared-marathon"
    },
    {
      "cell_type": "code",
      "metadata": {
        "id": "grave-poker"
      },
      "source": [
        "vocab_size = 20\n",
        "max_sentence_length = 5\n",
        "\n",
        "graphtype = \"straight_through_gumbel_softmax\"\n",
        "\n",
        "comm_ch_config = {\n",
        "    \"graphtype\":                graphtype,\n",
        "    \"tau0\":                     0.2,\n",
        "    \"gumbel_softmax_eps\":       1e-6,\n",
        "    \"vocab_size\":               vocab_size,\n",
        "    \"max_sentence_length\":      max_sentence_length,\n",
        "    \"force_eos\":                False,\n",
        "    \n",
        "}\n",
        "\n",
        "rg_config.update(comm_ch_config)"
      ],
      "id": "grave-poker",
      "execution_count": 62,
      "outputs": []
    },
    {
      "cell_type": "markdown",
      "metadata": {
        "id": "approved-federation"
      },
      "source": [
        "---"
      ],
      "id": "approved-federation"
    },
    {
      "cell_type": "markdown",
      "metadata": {
        "id": "differential-treasury"
      },
      "source": [
        "### Agent architecture:"
      ],
      "id": "differential-treasury"
    },
    {
      "cell_type": "code",
      "metadata": {
        "id": "failing-premises",
        "outputId": "dcdbee10-4fa1-46b1-adf9-d429c8bb6e66",
        "colab": {
          "base_uri": "https://localhost:8080/"
        }
      },
      "source": [
        "agent_arch = \"BN-CNN\" # with batch normalization layers in the CNN, otherwise \"CNN\".\n",
        "agent_loss_type = \"Hinge\" #\"NLL\"\n",
        "\n",
        "agent_config = {\n",
        "    \"symbol_embedding_size\":    64,\n",
        "\n",
        "    \"agent_architecture\":       agent_arch,\n",
        "    \"agent_learning\":           \"learning\",  #\"transfer_learning\" : CNN\"s outputs are detached from the graph...\n",
        "    \"agent_loss_type\":          agent_loss_type,\n",
        "\n",
        "}\n",
        "\n",
        "rg_config.update(agent_config)\n",
        "agent_config.update(rg_config)\n",
        "agent_config[\"architecture\"] = agent_config[\"agent_architecture\"]\n",
        "\n",
        "print(agent_config)"
      ],
      "id": "failing-premises",
      "execution_count": 63,
      "outputs": [
        {
          "output_type": "stream",
          "text": [
            "{'symbol_embedding_size': 64, 'agent_architecture': 'BN-CNN', 'agent_learning': 'learning', 'agent_loss_type': 'Hinge', 'observability': 'partial', 'nbr_communication_round': 1, 'nbr_distractors': {'train': 4, 'test': 4}, 'distractor_sampling': 'uniform', 'descriptive': True, 'descriptive_target_ratio': 0.8333333333333334, 'object_centric': True, 'nbr_stimulus': 1, 'batch_size': 8, 'dataloader_num_worker': 4, 'stimulus_depth_dim': 3, 'stimulus_resize_dim': 64, 'learning_rate': 0.0001, 'adam_eps': 1e-08, 'dropout_prob': 0.0, 'embedding_dropout_prob': 0.0, 'with_gradient_clip': False, 'gradient_clip': 1.0, 'use_homoscedastic_multitasks_loss': False, 'use_feat_converter': False, 'use_curriculum_nbr_distractors': False, 'curriculum_distractors_window_size': 25, 'nbr_experience_repetition': 1, 'with_utterance_penalization': False, 'with_utterance_promotion': False, 'utterance_oov_prob': 0.0, 'utterance_factor': 0.01, 'with_speaker_entropy_regularization': False, 'with_listener_entropy_regularization': False, 'entropy_regularization_factor': -0.01, 'with_mdl_principle': False, 'mdl_principle_factor': 0.05, 'with_weight_maxl1_loss': False, 'use_cuda': True, 'train_transform': ResizeNormalize(), 'test_transform': ResizeNormalize(), 'save_path': './tutorial/', 'graphtype': 'straight_through_gumbel_softmax', 'tau0': 0.2, 'gumbel_softmax_eps': 1e-06, 'vocab_size': 20, 'max_sentence_length': 5, 'force_eos': False, 'architecture': 'BN-CNN'}\n"
          ],
          "name": "stdout"
        }
      ]
    },
    {
      "cell_type": "markdown",
      "metadata": {
        "id": "progressive-democracy"
      },
      "source": [
        "#### Speaker agent:"
      ],
      "id": "progressive-democracy"
    },
    {
      "cell_type": "code",
      "metadata": {
        "id": "regular-campaign"
      },
      "source": [
        "import copy \n",
        "\n",
        "symbol_processing_nbr_hidden_units = 64\n",
        "\n",
        "speaker_config = copy.deepcopy(agent_config)\n",
        "\n",
        "# Observability: if partial, then the speaker does not see any distractor.\n",
        "if rg_config[\"observability\"]== \"partial\":\n",
        "    speaker_config[\"nbr_distractors\"] = 0\n",
        "\n",
        "speaker_config[\"use_feat_converter\"] = False\n",
        "# If True, then some FC layers are interweaved between \n",
        "# the cnn/encoder and the symbol_processing/language module\n",
        "# in order to adapt the size of the features to the size of \n",
        "# the language module.\n",
        "\n",
        "if \"BN\" in agent_arch:\n",
        "    speaker_config[\"cnn_encoder_channels\"] = [\"BN32\",\"BN32\",\"BN32\",\"BN32\",\"BN32\",\"BN32\",\"BN32\",\"BN32\"]\n",
        "else:\n",
        "    speaker_config[\"cnn_encoder_channels\"] = [32,32,32,32,32,32,32,32]\n",
        "\n",
        "speaker_config[\"cnn_encoder_kernels\"] = [3,3,3,3,3,3,3,3]\n",
        "speaker_config[\"cnn_encoder_strides\"] = [2,1,1,2,1,2,1,2]\n",
        "speaker_config[\"cnn_encoder_paddings\"] = [1,1,1,1,1,1,1,1]\n",
        "speaker_config[\"cnn_encoder_non_linearities\"] = [torch.nn.ReLU]\n",
        "speaker_config[\"cnn_encoder_fc_hidden_units\"] = [] #[128,] \n",
        "# the last FC layer is provided by the cnn_encoder_feature_dim parameter below...\n",
        "\n",
        "speaker_config[\"cnn_encoder_feature_dim\"] = 128 \n",
        "# N.B.: if cnn_encoder_fc_hidden_units is [],\n",
        "# then this last parameter does not matter.\n",
        "# The cnn encoder is not topped by a FC network.\n",
        "\n",
        "speaker_config[\"cnn_encoder_mini_batch_size\"] = batch_size\n",
        "speaker_config[\"feat_converter_output_size\"] = symbol_processing_nbr_hidden_units\n",
        "\n",
        "# The temporal encoder aims at encoding video-like inputs.\n",
        "# Since we are using static images here, leaving its hyperparameters at 0 skips it.\n",
        "speaker_config[\"temporal_encoder_nbr_hidden_units\"] = 0\n",
        "speaker_config[\"temporal_encoder_nbr_rnn_layers\"] = 0\n",
        "speaker_config[\"temporal_encoder_mini_batch_size\"] = batch_size\n",
        "\n",
        "speaker_config[\"symbol_processing_nbr_hidden_units\"] = symbol_processing_nbr_hidden_units\n",
        "speaker_config[\"symbol_processing_nbr_rnn_layers\"] = 1\n"
      ],
      "id": "regular-campaign",
      "execution_count": 64,
      "outputs": []
    },
    {
      "cell_type": "code",
      "metadata": {
        "id": "honey-shift",
        "outputId": "9b9d3ac6-7e3c-400e-d03f-37442711ef85",
        "colab": {
          "base_uri": "https://localhost:8080/"
        }
      },
      "source": [
        "from ReferentialGym.agents import LSTMCNNSpeaker\n",
        "\n",
        "batch_size = 4\n",
        "speaker_nbr_distractors = speaker_config['nbr_distractors']\n",
        "nbr_stimulus = rg_config['nbr_stimulus'] #static images, not video\n",
        "obs_shape = [\n",
        "    speaker_nbr_distractors+1,\n",
        "    nbr_stimulus, \n",
        "    rg_config['stimulus_depth_dim'],\n",
        "    rg_config['stimulus_resize_dim'],\n",
        "    rg_config['stimulus_resize_dim']\n",
        "]\n",
        "\n",
        "speaker = LSTMCNNSpeaker(\n",
        "    kwargs=speaker_config, \n",
        "    obs_shape=obs_shape, \n",
        "    vocab_size=vocab_size, \n",
        "    max_sentence_length=max_sentence_length,\n",
        "    agent_id='s0',\n",
        "    logger=logger\n",
        ")\n",
        "\n",
        "print(speaker)"
      ],
      "id": "honey-shift",
      "execution_count": 65,
      "outputs": [
        {
          "output_type": "stream",
          "text": [
            "Dim: 32\n",
            "Dim: 32\n",
            "Dim: 32\n",
            "Dim: 16\n",
            "Dim: 16\n",
            "Dim: 8\n",
            "Dim: 8\n",
            "Dim: 4\n",
            "WARNING: Symbol processing :: the number of hidden units is being reparameterized to fit to convolutional features.\n",
            "LSTMCNNSpeaker(\n",
            "  (cnn_encoder): ConvolutionalBody(\n",
            "    (cnn): Sequential(\n",
            "      (0): Conv2d(3, 32, kernel_size=(3, 3), stride=(2, 2), padding=(1, 1), bias=False)\n",
            "      (1): BatchNorm2d(32, eps=1e-05, momentum=0.1, affine=True, track_running_stats=True)\n",
            "      (2): ReLU()\n",
            "      (3): Conv2d(32, 32, kernel_size=(3, 3), stride=(1, 1), padding=(1, 1), bias=False)\n",
            "      (4): BatchNorm2d(32, eps=1e-05, momentum=0.1, affine=True, track_running_stats=True)\n",
            "      (5): ReLU()\n",
            "      (6): Conv2d(32, 32, kernel_size=(3, 3), stride=(1, 1), padding=(1, 1), bias=False)\n",
            "      (7): BatchNorm2d(32, eps=1e-05, momentum=0.1, affine=True, track_running_stats=True)\n",
            "      (8): ReLU()\n",
            "      (9): Conv2d(32, 32, kernel_size=(3, 3), stride=(2, 2), padding=(1, 1), bias=False)\n",
            "      (10): BatchNorm2d(32, eps=1e-05, momentum=0.1, affine=True, track_running_stats=True)\n",
            "      (11): ReLU()\n",
            "      (12): Conv2d(32, 32, kernel_size=(3, 3), stride=(1, 1), padding=(1, 1), bias=False)\n",
            "      (13): BatchNorm2d(32, eps=1e-05, momentum=0.1, affine=True, track_running_stats=True)\n",
            "      (14): ReLU()\n",
            "      (15): Conv2d(32, 32, kernel_size=(3, 3), stride=(2, 2), padding=(1, 1), bias=False)\n",
            "      (16): BatchNorm2d(32, eps=1e-05, momentum=0.1, affine=True, track_running_stats=True)\n",
            "      (17): ReLU()\n",
            "      (18): Conv2d(32, 32, kernel_size=(3, 3), stride=(1, 1), padding=(1, 1), bias=False)\n",
            "      (19): BatchNorm2d(32, eps=1e-05, momentum=0.1, affine=True, track_running_stats=True)\n",
            "      (20): ReLU()\n",
            "      (21): Conv2d(32, 32, kernel_size=(3, 3), stride=(2, 2), padding=(1, 1), bias=False)\n",
            "      (22): BatchNorm2d(32, eps=1e-05, momentum=0.1, affine=True, track_running_stats=True)\n",
            "      (23): ReLU()\n",
            "    )\n",
            "    (fcs): ModuleList(\n",
            "      (0): Linear(in_features=512, out_features=128, bias=True)\n",
            "    )\n",
            "  )\n",
            "  (cnn_encoder_normalization): BatchNorm1d(128, eps=1e-05, momentum=0.1, affine=True, track_running_stats=True)\n",
            "  (normalization): BatchNorm1d(128, eps=1e-05, momentum=0.1, affine=True, track_running_stats=True)\n",
            "  (symbol_processing): LSTM(64, 128, batch_first=True)\n",
            "  (symbol_encoder): Linear(in_features=20, out_features=64, bias=False)\n",
            "  (symbol_encoder_dropout): Dropout(p=0.0, inplace=False)\n",
            "  (symbol_decoder): Linear(in_features=128, out_features=20, bias=True)\n",
            "  (tau_fc): Sequential(\n",
            "    (0): Linear(in_features=128, out_features=1, bias=False)\n",
            "    (1): Softplus(beta=1, threshold=20)\n",
            "  )\n",
            ")\n"
          ],
          "name": "stdout"
        }
      ]
    },
    {
      "cell_type": "markdown",
      "metadata": {
        "id": "chinese-flour"
      },
      "source": [
        "#### Listener agent:"
      ],
      "id": "chinese-flour"
    },
    {
      "cell_type": "code",
      "metadata": {
        "id": "scheduled-texas",
        "outputId": "55f1d7a9-9045-44b6-a130-375ac34a6432",
        "colab": {
          "base_uri": "https://localhost:8080/"
        }
      },
      "source": [
        "from ReferentialGym.agents import LSTMCNNListener\n",
        "\n",
        "listener_config = copy.deepcopy(speaker_config)\n",
        "listener_config['nbr_distractors'] = rg_config['nbr_distractors']['train']\n",
        "\n",
        "listener_nbr_distractors = rg_config['nbr_distractors'][\"train\"]\n",
        "nbr_stimulus = listener_config['nbr_stimulus']\n",
        "obs_shape = [\n",
        "    listener_nbr_distractors+1,\n",
        "    nbr_stimulus, \n",
        "    rg_config['stimulus_depth_dim'],\n",
        "    rg_config['stimulus_resize_dim'],\n",
        "    rg_config['stimulus_resize_dim']\n",
        "]\n",
        "\n",
        "listener = LSTMCNNListener(\n",
        "  kwargs=listener_config, \n",
        "  obs_shape=obs_shape, \n",
        "  vocab_size=vocab_size, \n",
        "  max_sentence_length=max_sentence_length,\n",
        "  agent_id='l0',\n",
        "  logger=logger\n",
        ")\n",
        "\n",
        "print(listener)"
      ],
      "id": "scheduled-texas",
      "execution_count": 66,
      "outputs": [
        {
          "output_type": "stream",
          "text": [
            "Dim: 32\n",
            "Dim: 32\n",
            "Dim: 32\n",
            "Dim: 16\n",
            "Dim: 16\n",
            "Dim: 8\n",
            "Dim: 8\n",
            "Dim: 4\n",
            "WARNING: Symbol processing :: the number of hidden units is being reparameterized to fit to convolutional features.\n",
            "LSTMCNNListener(\n",
            "  (cnn_encoder): ConvolutionalBody(\n",
            "    (cnn): Sequential(\n",
            "      (0): Conv2d(3, 32, kernel_size=(3, 3), stride=(2, 2), padding=(1, 1), bias=False)\n",
            "      (1): BatchNorm2d(32, eps=1e-05, momentum=0.1, affine=True, track_running_stats=True)\n",
            "      (2): ReLU()\n",
            "      (3): Conv2d(32, 32, kernel_size=(3, 3), stride=(1, 1), padding=(1, 1), bias=False)\n",
            "      (4): BatchNorm2d(32, eps=1e-05, momentum=0.1, affine=True, track_running_stats=True)\n",
            "      (5): ReLU()\n",
            "      (6): Conv2d(32, 32, kernel_size=(3, 3), stride=(1, 1), padding=(1, 1), bias=False)\n",
            "      (7): BatchNorm2d(32, eps=1e-05, momentum=0.1, affine=True, track_running_stats=True)\n",
            "      (8): ReLU()\n",
            "      (9): Conv2d(32, 32, kernel_size=(3, 3), stride=(2, 2), padding=(1, 1), bias=False)\n",
            "      (10): BatchNorm2d(32, eps=1e-05, momentum=0.1, affine=True, track_running_stats=True)\n",
            "      (11): ReLU()\n",
            "      (12): Conv2d(32, 32, kernel_size=(3, 3), stride=(1, 1), padding=(1, 1), bias=False)\n",
            "      (13): BatchNorm2d(32, eps=1e-05, momentum=0.1, affine=True, track_running_stats=True)\n",
            "      (14): ReLU()\n",
            "      (15): Conv2d(32, 32, kernel_size=(3, 3), stride=(2, 2), padding=(1, 1), bias=False)\n",
            "      (16): BatchNorm2d(32, eps=1e-05, momentum=0.1, affine=True, track_running_stats=True)\n",
            "      (17): ReLU()\n",
            "      (18): Conv2d(32, 32, kernel_size=(3, 3), stride=(1, 1), padding=(1, 1), bias=False)\n",
            "      (19): BatchNorm2d(32, eps=1e-05, momentum=0.1, affine=True, track_running_stats=True)\n",
            "      (20): ReLU()\n",
            "      (21): Conv2d(32, 32, kernel_size=(3, 3), stride=(2, 2), padding=(1, 1), bias=False)\n",
            "      (22): BatchNorm2d(32, eps=1e-05, momentum=0.1, affine=True, track_running_stats=True)\n",
            "      (23): ReLU()\n",
            "    )\n",
            "    (fcs): ModuleList(\n",
            "      (0): Linear(in_features=512, out_features=128, bias=True)\n",
            "    )\n",
            "  )\n",
            "  (cnn_encoder_normalization): BatchNorm1d(128, eps=1e-05, momentum=0.1, affine=True, track_running_stats=True)\n",
            "  (normalization): BatchNorm1d(128, eps=1e-05, momentum=0.1, affine=True, track_running_stats=True)\n",
            "  (symbol_processing): LSTM(64, 128, batch_first=True)\n",
            "  (symbol_encoder): Sequential(\n",
            "    (0): Linear(in_features=20, out_features=64, bias=False)\n",
            "    (1): Dropout(p=0.0, inplace=False)\n",
            "  )\n",
            "  (tau_fc): Sequential(\n",
            "    (0): Linear(in_features=128, out_features=1, bias=False)\n",
            "    (1): Softplus(beta=1, threshold=20)\n",
            "  )\n",
            ")\n"
          ],
          "name": "stdout"
        }
      ]
    },
    {
      "cell_type": "markdown",
      "metadata": {
        "id": "boring-cross"
      },
      "source": [
        "---"
      ],
      "id": "boring-cross"
    },
    {
      "cell_type": "markdown",
      "metadata": {
        "id": "changing-selling"
      },
      "source": [
        "## Referential Game Graph:\n",
        "\n",
        "Now that we have build some agents, we need to define a handler for the population of agents (here only made up the listener and speaker that we have just built, but they could be used as blueprint for a population of agents as experimented with in [Cogswell et al.](https://arxiv.org/abs/1904.09067)) and the graph placeholders `current_speaker` and `current_listener` to have some referential game being played."
      ],
      "id": "changing-selling"
    },
    {
      "cell_type": "code",
      "metadata": {
        "id": "burning-freeze"
      },
      "source": [
        "from ReferentialGym import modules as rg_modules\n",
        "\n",
        "modules = {}"
      ],
      "id": "burning-freeze",
      "execution_count": 67,
      "outputs": []
    },
    {
      "cell_type": "code",
      "metadata": {
        "id": "rising-commerce",
        "outputId": "ce901ac3-1e0e-4a7c-fa62-3cfe16683e69",
        "colab": {
          "base_uri": "https://localhost:8080/"
        }
      },
      "source": [
        "# Population Handler:\n",
        "population_handler_id = \"population_handler_0\"\n",
        "population_handler_config = copy.deepcopy(rg_config)\n",
        "population_handler_config[\"verbose\"] = False\n",
        "population_handler_stream_ids = {\n",
        "    \"current_speaker_streams_dict\":\"modules:current_speaker\",\n",
        "    \"current_listener_streams_dict\":\"modules:current_listener\",\n",
        "    \"epoch\":\"signals:epoch\",\n",
        "    \"mode\":\"signals:mode\",\n",
        "    \"global_it_datasample\":\"signals:global_it_datasample\",\n",
        "}\n",
        "\n",
        "# Current Speaker:\n",
        "current_speaker_id = \"current_speaker\"\n",
        "\n",
        "# Current Listener:\n",
        "current_listener_id = \"current_listener\"\n",
        "\n",
        "modules[population_handler_id] = rg_modules.build_PopulationHandlerModule(\n",
        "    id=population_handler_id,\n",
        "    prototype_speaker=speaker,\n",
        "    prototype_listener=listener,\n",
        "    config=population_handler_config,\n",
        "    input_stream_ids=population_handler_stream_ids\n",
        ")\n",
        "\n",
        "modules[current_speaker_id] = rg_modules.CurrentAgentModule(id=current_speaker_id,role=\"speaker\")\n",
        "modules[current_listener_id] = rg_modules.CurrentAgentModule(id=current_listener_id,role=\"listener\")"
      ],
      "id": "rising-commerce",
      "execution_count": 68,
      "outputs": [
        {
          "output_type": "stream",
          "text": [
            "Create Population of Agents: ...\n",
            "Create Population of Agents: OK.\n"
          ],
          "name": "stdout"
        }
      ]
    },
    {
      "cell_type": "markdown",
      "metadata": {
        "id": "patent-greensboro"
      },
      "source": [
        "Now that we have our population of agents and the relevant graph placeholders, i.e. all the modules where learning happens, we can add the final optimization module. Indeed, upon its creation, it parses all the other modules for learnable parameters:"
      ],
      "id": "patent-greensboro"
    },
    {
      "cell_type": "code",
      "metadata": {
        "id": "confident-drive"
      },
      "source": [
        "optim_id = \"global_optim\"\n",
        "optim_config = {\n",
        "\"modules\":modules,\n",
        "\"learning_rate\":rg_config[\"learning_rate\"],\n",
        "\"optimizer_type\":\"adam\",\n",
        "\"with_gradient_clip\":rg_config[\"with_gradient_clip\"],\n",
        "\"adam_eps\":rg_config[\"adam_eps\"],\n",
        "}\n",
        "\n",
        "optim_module = rg_modules.build_OptimizationModule(\n",
        "id=optim_id,\n",
        "config=optim_config,\n",
        ")\n",
        "modules[optim_id] = optim_module"
      ],
      "id": "confident-drive",
      "execution_count": 69,
      "outputs": []
    },
    {
      "cell_type": "markdown",
      "metadata": {
        "id": "general-august"
      },
      "source": [
        "### Metrics:\n",
        "In order to probe the graph, we can include a few metrics and some loggers:\n",
        "+ Topographic Similarity\n",
        "+ Instantaneous Coordination (1-step Causal Influence in Communication)"
      ],
      "id": "general-august"
    },
    {
      "cell_type": "code",
      "metadata": {
        "id": "continued-share"
      },
      "source": [
        "\"\"\"\n",
        "grad_recorder_id = \"grad_recorder\"\n",
        "grad_recorder_module = rg_modules.build_GradRecorderModule(id=grad_recorder_id)\n",
        "modules[grad_recorder_id] = grad_recorder_module\n",
        "\"\"\"\n",
        "\n",
        "topo_sim_metric_id = \"topo_sim_metric\"\n",
        "topo_sim_metric_module = rg_modules.build_TopographicSimilarityMetricModule(\n",
        "    id=topo_sim_metric_id,\n",
        "    config = {\n",
        "        \"parallel_TS_computation_max_workers\":16,\n",
        "        \"epoch_period\": 2, #the metric is computed for 1 epoch every `epoch_period` epochs.\n",
        "        \"fast\":False, #whether to compute an approximate metric or not, the approximate being fast.\n",
        "        \"verbose\":False,\n",
        "        \"vocab_size\":rg_config[\"vocab_size\"],\n",
        "    }\n",
        ")\n",
        "modules[topo_sim_metric_id] = topo_sim_metric_module\n",
        "\n",
        "inst_coord_metric_id = \"inst_coord_metric\"\n",
        "inst_coord_metric_module = rg_modules.build_InstantaneousCoordinationMetricModule(\n",
        "    id=inst_coord_metric_id,\n",
        "    config = {\n",
        "        \"epoch_period\":1,\n",
        "    }\n",
        ")\n",
        "modules[inst_coord_metric_id] = inst_coord_metric_module\n",
        "\n",
        "\"\"\"\n",
        "# Rather than a simple referential game accuracy metric,\n",
        "# this later module computes an accuracy value for each\n",
        "# latent factors in the dSprites dataset:\n",
        "dsprites_latent_metric_id = \"dsprites_latent_metric\"\n",
        "dsprites_latent_metric_module = rg_modules.build_dSpritesPerLatentAccuracyMetricModule(id=dsprites_latent_metric_id,\n",
        "    config = {\n",
        "      \"epoch_period\":1,\n",
        "    }\n",
        ")\n",
        "modules[dsprites_latent_metric_id] = dsprites_latent_metric_module\n",
        "\"\"\"\n",
        "\n",
        "\"\"\"\n",
        "# Evaluate the speaker's learned representation in terms of disentanglement:\n",
        "# mainly useful when using a VAE-based architecture for the speaker's encoder:\n",
        "speaker_factor_vae_disentanglement_metric_id = \"speaker_factor_vae_disentanglement_metric\"\n",
        "speaker_factor_vae_disentanglement_metric_input_stream_ids = {\n",
        "    \"model\":\"modules:current_speaker:ref:ref_agent:cnn_encoder\",\n",
        "    \"representations\":\"modules:current_speaker:ref:ref_agent:features\",\n",
        "    \"experiences\":\"current_dataloader:sample:speaker_experiences\", \n",
        "    \"latent_representations\":\"current_dataloader:sample:speaker_exp_latents\", \n",
        "    \"latent_values_representations\":\"current_dataloader:sample:speaker_exp_latents_values\",\n",
        "    \"indices\":\"current_dataloader:sample:speaker_indices\", \n",
        "}\n",
        "speaker_factor_vae_disentanglement_metric_module = rg_modules.build_FactorVAEDisentanglementMetricModule(\n",
        "    id=speaker_factor_vae_disentanglement_metric_id,\n",
        "    input_stream_ids=speaker_factor_vae_disentanglement_metric_input_stream_ids,\n",
        "    config = {\n",
        "      \"epoch_period\":args.metric_epoch_period,\n",
        "      \"batch_size\":64,#5,\n",
        "      \"nbr_train_points\":10000,#3000,\n",
        "      \"nbr_eval_points\":5000,#2000,\n",
        "      \"resample\":False,\n",
        "      \"threshold\":5e-2,#0.0,#1.0,\n",
        "      \"random_state_seed\":args.seed,\n",
        "      \"verbose\":False,\n",
        "      \"active_factors_only\":True,\n",
        "    }\n",
        ")\n",
        "modules[speaker_factor_vae_disentanglement_metric_id] = speaker_factor_vae_disentanglement_metric_module\n",
        "\"\"\"\n",
        "\n",
        "\"\"\"\n",
        "listener_factor_vae_disentanglement_metric_id = \"listener_factor_vae_disentanglement_metric\"\n",
        "listener_factor_vae_disentanglement_metric_input_stream_ids = {\n",
        "    \"model\":\"modules:current_listener:ref:ref_agent:cnn_encoder\",\n",
        "    \"representations\":\"modules:current_listener:ref:ref_agent:features\",\n",
        "    \"experiences\":\"current_dataloader:sample:listener_experiences\", \n",
        "    \"latent_representations\":\"current_dataloader:sample:listener_exp_latents\", \n",
        "    \"latent_values_representations\":\"current_dataloader:sample:listener_exp_latents_values\",\n",
        "    \"indices\":\"current_dataloader:sample:listener_indices\", \n",
        "}\n",
        "listener_factor_vae_disentanglement_metric_module = rg_modules.build_FactorVAEDisentanglementMetricModule(\n",
        "    id=listener_factor_vae_disentanglement_metric_id,\n",
        "    input_stream_ids=listener_factor_vae_disentanglement_metric_input_stream_ids,\n",
        "    config = {\n",
        "      \"epoch_period\":args.metric_epoch_period,\n",
        "      \"batch_size\":64,#5,\n",
        "      \"nbr_train_points\":10000,#3000,\n",
        "      \"nbr_eval_points\":5000,#2000,\n",
        "      \"resample\":False,\n",
        "      \"threshold\":5e-2,#0.0,#1.0,\n",
        "      \"random_state_seed\":args.seed,\n",
        "      \"verbose\":False,\n",
        "      \"active_factors_only\":True,\n",
        "    }\n",
        ")\n",
        "modules[listener_factor_vae_disentanglement_metric_id] = listener_factor_vae_disentanglement_metric_module\n",
        "\"\"\"\n",
        "\n",
        "\n",
        "logger_id = \"per_epoch_logger\"\n",
        "logger_module = rg_modules.build_PerEpochLoggerModule(id=logger_id)\n",
        "modules[logger_id] = logger_module\n"
      ],
      "id": "continued-share",
      "execution_count": 70,
      "outputs": []
    },
    {
      "cell_type": "markdown",
      "metadata": {
        "id": "verbal-czech"
      },
      "source": [
        "This last logger accumulates the metrics throughout each epoch to give per-epoch metrics, rather than at each batch."
      ],
      "id": "verbal-czech"
    },
    {
      "cell_type": "markdown",
      "metadata": {
        "id": "entire-electricity"
      },
      "source": [
        "### Pipelines:\n",
        "The referential game graph is specified using a pipeline philosophy:"
      ],
      "id": "entire-electricity"
    },
    {
      "cell_type": "code",
      "metadata": {
        "id": "corresponding-prime"
      },
      "source": [
        "## Pipelines:\n",
        "pipelines = {}\n",
        "\n",
        "pipelines[\"referential_game\"] = [\n",
        "population_handler_id,\n",
        "current_speaker_id,\n",
        "current_listener_id\n",
        "]\n",
        "\n",
        "pipelines[optim_id] = []\n",
        "pipelines[optim_id].append(optim_id)\n",
        "\"\"\"\n",
        "# Add gradient recorder module for debugging purposes:\n",
        "pipelines[optim_id].append(grad_recorder_id)\n",
        "\"\"\"\n",
        "#pipelines[optim_id].append(speaker_factor_vae_disentanglement_metric_id)\n",
        "#pipelines[optim_id].append(listener_factor_vae_disentanglement_metric_id)\n",
        "pipelines[optim_id].append(topo_sim_metric_id)\n",
        "pipelines[optim_id].append(inst_coord_metric_id)\n",
        "#pipelines[optim_id].append(dsprites_latent_metric_id)\n",
        "pipelines[optim_id].append(logger_id)\n",
        "\n",
        "rg_config[\"modules\"] = modules\n",
        "rg_config[\"pipelines\"] = pipelines\n"
      ],
      "id": "corresponding-prime",
      "execution_count": 71,
      "outputs": []
    },
    {
      "cell_type": "markdown",
      "metadata": {
        "id": "appreciated-instrument"
      },
      "source": [
        "---"
      ],
      "id": "appreciated-instrument"
    },
    {
      "cell_type": "markdown",
      "metadata": {
        "id": "adjusted-procedure"
      },
      "source": [
        "Finally, we can create an referential game instance as follows:"
      ],
      "id": "adjusted-procedure"
    },
    {
      "cell_type": "code",
      "metadata": {
        "id": "incorporated-laser"
      },
      "source": [
        "dataset_args = {\n",
        "    \"dataset_class\": \"DualLabeledDataset\",\n",
        "    \"modes\": {\n",
        "        \"train\": train_dataset,\n",
        "        \"test\": test_dataset,\n",
        "    },\n",
        "    \"need_dict_wrapping\":       {},\n",
        "    \"nbr_stimulus\":             rg_config[\"nbr_stimulus\"],\n",
        "    \"distractor_sampling\":      rg_config[\"distractor_sampling\"],\n",
        "    \"nbr_distractors\":          rg_config[\"nbr_distractors\"],\n",
        "    \"observability\":            rg_config[\"observability\"],\n",
        "    \"object_centric\":           rg_config[\"object_centric\"],\n",
        "    \"descriptive\":              rg_config[\"descriptive\"],\n",
        "    \"descriptive_target_ratio\": rg_config[\"descriptive_target_ratio\"],\n",
        "}\n",
        "\n",
        "refgame = ReferentialGym.make(config=rg_config, dataset_args=dataset_args)"
      ],
      "id": "incorporated-laser",
      "execution_count": 72,
      "outputs": []
    },
    {
      "cell_type": "code",
      "metadata": {
        "id": "funny-harris",
        "outputId": "2c1e2cf5-9751-4c85-9723-83d9837757ae",
        "colab": {
          "base_uri": "https://localhost:8080/"
        }
      },
      "source": [
        "nbr_epoch = 10\n",
        "refgame.train(nbr_epoch=nbr_epoch,\n",
        "            logger=logger,\n",
        "            verbose_period=1)"
      ],
      "id": "funny-harris",
      "execution_count": 73,
      "outputs": [
        {
          "output_type": "stream",
          "text": [
            "\n",
            "\n",
            "\n",
            "\n",
            "\n",
            "  0%|          | 0/10 [00:00<?, ?it/s]\u001b[A\u001b[A\u001b[A\u001b[A\u001b[A"
          ],
          "name": "stderr"
        },
        {
          "output_type": "stream",
          "text": [
            "Create dataloader: ...\n",
            "Create dataloader: OK.\n",
            "Launching training: ...\n"
          ],
          "name": "stdout"
        },
        {
          "output_type": "stream",
          "text": [
            "\n",
            "\n",
            "\n",
            "\n",
            "\n",
            "Epoch 1 :: train Iteration 1/4 :: Loss 2 = 4.735552787780762:  10%|█         | 1/10 [00:01<00:09,  1.03s/it]\u001b[A\u001b[A\u001b[A\u001b[A\u001b[A\n",
            "\n",
            "\n",
            "\n",
            "\n",
            "Epoch 1 :: train Iteration 2/4 :: Loss 3 = 4.109804630279541:  10%|█         | 1/10 [00:01<00:10,  1.20s/it]\u001b[A\u001b[A\u001b[A\u001b[A\u001b[A\n",
            "\n",
            "\n",
            "\n",
            "\n",
            "Epoch 1 :: train Iteration 3/4 :: Loss 4 = 7.756072998046875:  10%|█         | 1/10 [00:01<00:12,  1.38s/it]\u001b[A\u001b[A\u001b[A\u001b[A\u001b[A\n",
            "\n",
            "\n",
            "\n",
            "\n",
            "\n",
            "27it [00:00, 590.76it/s]\n",
            "\n",
            "\n",
            "\n",
            "\n",
            "\n",
            "\n",
            "27it [00:00, 1141.70it/s]\n",
            "\n",
            "\n",
            "\n",
            "\n",
            "\n",
            "\n",
            "27it [00:00, 675.84it/s]\n",
            "\n",
            "\n",
            "\n",
            "\n",
            "\n",
            "\n",
            "27it [00:00, 983.08it/s]\n",
            "\n",
            "\n",
            "\n",
            "\n",
            "\n",
            "\n",
            "27it [00:00, 648.63it/s]\n",
            "\n",
            "\n",
            "\n",
            "\n",
            "\n",
            "\n",
            "27it [00:00, 1452.14it/s]\n",
            "\n",
            "\n",
            "\n",
            "\n",
            "\n",
            "\n",
            "27it [00:00, 833.06it/s]\n",
            "\n",
            "\n",
            "\n",
            "\n",
            "\n",
            "\n",
            "27it [00:00, 1104.36it/s]\n",
            "\n",
            "\n",
            "\n",
            "\n",
            "\n",
            "Epoch 1 :: train Iteration 4/4 :: Loss 5 = 7.880457878112793:  10%|█         | 1/10 [00:04<00:43,  4.86s/it]\u001b[A\u001b[A\u001b[A\u001b[A\u001b[A\n",
            "\n",
            "\n",
            "\n",
            "\n",
            "Epoch 1 :: test Iteration 1/2 :: Loss 2 = 6.411954879760742:  10%|█         | 1/10 [00:05<00:51,  5.72s/it] \u001b[A\u001b[A\u001b[A\u001b[A\u001b[A\n",
            "\n",
            "\n",
            "\n",
            "\n",
            "\n",
            "4it [00:00, 344.27it/s]\n",
            "\n",
            "\n",
            "\n",
            "\n",
            "\n",
            "\n",
            "4it [00:00, 812.02it/s]\n",
            "\n",
            "\n",
            "\n",
            "\n",
            "\n",
            "\n",
            "4it [00:00, 659.87it/s]\n",
            "\n",
            "\n",
            "\n",
            "\n",
            "\n",
            "\n",
            "4it [00:00, 331.15it/s]\n",
            "\n",
            "\n",
            "\n",
            "\n",
            "\n",
            "\n",
            "4it [00:00, 931.08it/s]\n",
            "\n",
            "\n",
            "\n",
            "\n",
            "\n",
            "\n",
            "4it [00:00, 504.09it/s]\n",
            "\n",
            "\n",
            "\n",
            "\n",
            "\n",
            "\n",
            "4it [00:00, 744.43it/s]\n",
            "\n",
            "\n",
            "\n",
            "\n",
            "\n",
            "\n",
            "4it [00:00, 346.94it/s]\n",
            "\n",
            "\n",
            "\n",
            "\n",
            "\n",
            "Epoch 1 :: test Iteration 2/2 :: Loss 3 = 6.738786220550537:  10%|█         | 1/10 [00:08<01:19,  8.82s/it]\u001b[A\u001b[A\u001b[A\u001b[A\u001b[A\n",
            "\n",
            "\n",
            "\n",
            "\n",
            "Epoch 1 :: test Iteration 2/2 :: Loss 3 = 6.738786220550537:  20%|██        | 2/10 [00:09<00:36,  4.57s/it]\u001b[A\u001b[A\u001b[A\u001b[A\u001b[A\n",
            "\n",
            "\n",
            "\n",
            "\n",
            "Epoch 2 :: train Iteration 1/4 :: Loss 6 = 5.87895393371582:  20%|██        | 2/10 [00:10<00:36,  4.57s/it]\u001b[A\u001b[A\u001b[A\u001b[A\u001b[A\n",
            "\n",
            "\n",
            "\n",
            "\n",
            "Epoch 2 :: train Iteration 2/4 :: Loss 7 = 0.06457781791687012:  20%|██        | 2/10 [00:10<00:36,  4.57s/it]\u001b[A\u001b[A\u001b[A\u001b[A\u001b[A\n",
            "\n",
            "\n",
            "\n",
            "\n",
            "Epoch 2 :: train Iteration 3/4 :: Loss 8 = 8.791980743408203:  20%|██        | 2/10 [00:10<00:36,  4.57s/it]  \u001b[A\u001b[A\u001b[A\u001b[A\u001b[A\n",
            "\n",
            "\n",
            "\n",
            "\n",
            "Epoch 2 :: train Iteration 4/4 :: Loss 9 = 3.2509636878967285:  20%|██        | 2/10 [00:10<00:36,  4.57s/it]\u001b[A\u001b[A\u001b[A\u001b[A\u001b[A\n",
            "\n",
            "\n",
            "\n",
            "\n",
            "Epoch 2 :: test Iteration 1/2 :: Loss 4 = 5.797451496124268:  20%|██        | 2/10 [00:11<00:36,  4.57s/it]  \u001b[A\u001b[A\u001b[A\u001b[A\u001b[A\n",
            "\n",
            "\n",
            "\n",
            "\n",
            "Epoch 2 :: test Iteration 2/2 :: Loss 5 = 5.362729072570801:  20%|██        | 2/10 [00:11<00:36,  4.57s/it]\u001b[A\u001b[A\u001b[A\u001b[A\u001b[A\n",
            "\n",
            "\n",
            "\n",
            "\n",
            "Epoch 2 :: test Iteration 2/2 :: Loss 5 = 5.362729072570801:  30%|███       | 3/10 [00:11<00:27,  3.88s/it]\u001b[A\u001b[A\u001b[A\u001b[A\u001b[A\n",
            "\n",
            "\n",
            "\n",
            "\n",
            "Epoch 3 :: train Iteration 1/4 :: Loss 10 = 0.4750441312789917:  30%|███       | 3/10 [00:12<00:27,  3.88s/it]\u001b[A\u001b[A\u001b[A\u001b[A\u001b[A\n",
            "\n",
            "\n",
            "\n",
            "\n",
            "Epoch 3 :: train Iteration 2/4 :: Loss 11 = 6.118343353271484:  30%|███       | 3/10 [00:12<00:27,  3.88s/it] \u001b[A\u001b[A\u001b[A\u001b[A\u001b[A\n",
            "\n",
            "\n",
            "\n",
            "\n",
            "Epoch 3 :: train Iteration 3/4 :: Loss 12 = 6.6499762535095215:  30%|███       | 3/10 [00:12<00:27,  3.88s/it]\u001b[A\u001b[A\u001b[A\u001b[A\u001b[A\n",
            "\n",
            "\n",
            "\n",
            "\n",
            "\n",
            "25it [00:00, 767.32it/s]\n",
            "\n",
            "\n",
            "\n",
            "\n",
            "\n",
            "\n",
            "25it [00:00, 3917.86it/s]\n",
            "\n",
            "\n",
            "\n",
            "\n",
            "\n",
            "\n",
            "25it [00:00, 553.55it/s]\n",
            "\n",
            "\n",
            "\n",
            "\n",
            "\n",
            "\n",
            "25it [00:00, 1591.79it/s]\n",
            "\n",
            "\n",
            "\n",
            "\n",
            "\n",
            "\n",
            "25it [00:00, 635.54it/s]\n",
            "\n",
            "\n",
            "\n",
            "\n",
            "\n",
            "\n",
            "25it [00:00, 1141.13it/s]\n",
            "\n",
            "\n",
            "\n",
            "\n",
            "\n",
            "\n",
            "25it [00:00, 736.05it/s]\n",
            "\n",
            "\n",
            "\n",
            "\n",
            "\n",
            "\n",
            "25it [00:00, 870.79it/s]\n",
            "\n",
            "\n",
            "\n",
            "\n",
            "\n",
            "Epoch 3 :: train Iteration 4/4 :: Loss 13 = 0.24282336235046387:  30%|███       | 3/10 [00:16<00:27,  3.88s/it]\u001b[A\u001b[A\u001b[A\u001b[A\u001b[A"
          ],
          "name": "stderr"
        },
        {
          "output_type": "stream",
          "text": [
            "saving datasets...\n",
            "Datasets saved at ./datasets/3DShapePyBullet-datasetimgS64-shapes7-colors3-samples2/3d_shapes_pybullet_dataset.pickle\n"
          ],
          "name": "stdout"
        },
        {
          "output_type": "stream",
          "text": [
            "\n",
            "\n",
            "\n",
            "\n",
            "\n",
            "Epoch 3 :: test Iteration 1/2 :: Loss 6 = 6.6035943031311035:  30%|███       | 3/10 [00:17<00:27,  3.88s/it]   \u001b[A\u001b[A\u001b[A\u001b[A\u001b[A\n",
            "\n",
            "\n",
            "\n",
            "\n",
            "\n",
            "6it [00:00, 526.56it/s]\n",
            "\n",
            "\n",
            "\n",
            "\n",
            "\n",
            "\n",
            "0it [00:00, ?it/s]\u001b[A\u001b[A\u001b[A\u001b[A\u001b[A\u001b[A/content/ReferentialGym/ReferentialGym/utils/utils.py:148: RuntimeWarning: invalid value encountered in true_divide\n",
            "  cos_sim = np.matmul(v1/v1_norm,(v2/v2_norm).transpose())\n",
            "/content/ReferentialGym/ReferentialGym/utils/utils.py:148: RuntimeWarning: invalid value encountered in true_divide\n",
            "  cos_sim = np.matmul(v1/v1_norm,(v2/v2_norm).transpose())\n",
            "/content/ReferentialGym/ReferentialGym/utils/utils.py:148: RuntimeWarning: invalid value encountered in true_divide\n",
            "  cos_sim = np.matmul(v1/v1_norm,(v2/v2_norm).transpose())\n",
            "/content/ReferentialGym/ReferentialGym/utils/utils.py:148: RuntimeWarning: invalid value encountered in true_divide\n",
            "  cos_sim = np.matmul(v1/v1_norm,(v2/v2_norm).transpose())\n",
            "6it [00:00, 209.12it/s]\n",
            "\n",
            "\n",
            "\n",
            "\n",
            "\n",
            "\n",
            "6it [00:00, 680.78it/s]\n",
            "\n",
            "\n",
            "\n",
            "\n",
            "\n",
            "\n",
            "6it [00:00, 437.18it/s]\n",
            "\n",
            "\n",
            "\n",
            "\n",
            "\n",
            "\n",
            "6it [00:00, 502.29it/s]\n",
            "\n",
            "\n",
            "\n",
            "\n",
            "\n",
            "\n",
            "0it [00:00, ?it/s]\u001b[A\u001b[A\u001b[A\u001b[A\u001b[A\u001b[A/content/ReferentialGym/ReferentialGym/utils/utils.py:148: RuntimeWarning: invalid value encountered in true_divide\n",
            "  cos_sim = np.matmul(v1/v1_norm,(v2/v2_norm).transpose())\n",
            "/content/ReferentialGym/ReferentialGym/utils/utils.py:148: RuntimeWarning: invalid value encountered in true_divide\n",
            "  cos_sim = np.matmul(v1/v1_norm,(v2/v2_norm).transpose())\n",
            "/content/ReferentialGym/ReferentialGym/utils/utils.py:148: RuntimeWarning: invalid value encountered in true_divide\n",
            "  cos_sim = np.matmul(v1/v1_norm,(v2/v2_norm).transpose())\n",
            "/content/ReferentialGym/ReferentialGym/utils/utils.py:148: RuntimeWarning: invalid value encountered in true_divide\n",
            "  cos_sim = np.matmul(v1/v1_norm,(v2/v2_norm).transpose())\n",
            "6it [00:00, 203.71it/s]\n",
            "\n",
            "\n",
            "\n",
            "\n",
            "\n",
            "\n",
            "6it [00:00, 1120.32it/s]\n",
            "\n",
            "\n",
            "\n",
            "\n",
            "\n",
            "\n",
            "6it [00:00, 897.05it/s]\n",
            "WARNING:root:NaN or Inf found in input tensor.\n",
            "WARNING:root:NaN or Inf found in input tensor.\n",
            "WARNING:root:NaN or Inf found in input tensor.\n",
            "WARNING:root:NaN or Inf found in input tensor.\n",
            "\n",
            "\n",
            "\n",
            "\n",
            "\n",
            "Epoch 3 :: test Iteration 2/2 :: Loss 7 = 7.785255432128906:  30%|███       | 3/10 [00:20<00:27,  3.88s/it] \u001b[A\u001b[A\u001b[A\u001b[A\u001b[A\n",
            "\n",
            "\n",
            "\n",
            "\n",
            "Epoch 3 :: test Iteration 2/2 :: Loss 7 = 7.785255432128906:  40%|████      | 4/10 [00:20<00:33,  5.52s/it]\u001b[A\u001b[A\u001b[A\u001b[A\u001b[A\n",
            "\n",
            "\n",
            "\n",
            "\n",
            "Epoch 4 :: train Iteration 1/4 :: Loss 14 = 8.019231796264648:  40%|████      | 4/10 [00:21<00:33,  5.52s/it]\u001b[A\u001b[A\u001b[A\u001b[A\u001b[A\n",
            "\n",
            "\n",
            "\n",
            "\n",
            "Epoch 4 :: train Iteration 2/4 :: Loss 15 = 1.2452566623687744:  40%|████      | 4/10 [00:21<00:33,  5.52s/it]\u001b[A\u001b[A\u001b[A\u001b[A\u001b[A\n",
            "\n",
            "\n",
            "\n",
            "\n",
            "Epoch 4 :: train Iteration 3/4 :: Loss 16 = 6.346342086791992:  40%|████      | 4/10 [00:22<00:33,  5.52s/it] \u001b[A\u001b[A\u001b[A\u001b[A\u001b[A\n",
            "\n",
            "\n",
            "\n",
            "\n",
            "Epoch 4 :: train Iteration 4/4 :: Loss 17 = 8.098288536071777:  40%|████      | 4/10 [00:22<00:33,  5.52s/it]\u001b[A\u001b[A\u001b[A\u001b[A\u001b[A\n",
            "\n",
            "\n",
            "\n",
            "\n",
            "Epoch 4 :: test Iteration 1/2 :: Loss 8 = 6.061755180358887:  40%|████      | 4/10 [00:22<00:33,  5.52s/it]  \u001b[A\u001b[A\u001b[A\u001b[A\u001b[A\n",
            "\n",
            "\n",
            "\n",
            "\n",
            "Epoch 4 :: test Iteration 2/2 :: Loss 9 = 6.3410515785217285:  40%|████      | 4/10 [00:23<00:33,  5.52s/it]\u001b[A\u001b[A\u001b[A\u001b[A\u001b[A\n",
            "\n",
            "\n",
            "\n",
            "\n",
            "Epoch 4 :: test Iteration 2/2 :: Loss 9 = 6.3410515785217285:  50%|█████     | 5/10 [00:23<00:22,  4.58s/it]\u001b[A\u001b[A\u001b[A\u001b[A\u001b[A\n",
            "\n",
            "\n",
            "\n",
            "\n",
            "Epoch 5 :: train Iteration 1/4 :: Loss 18 = 5.917002201080322:  50%|█████     | 5/10 [00:24<00:22,  4.58s/it]\u001b[A\u001b[A\u001b[A\u001b[A\u001b[A\n",
            "\n",
            "\n",
            "\n",
            "\n",
            "Epoch 5 :: train Iteration 2/4 :: Loss 19 = 6.429864883422852:  50%|█████     | 5/10 [00:24<00:22,  4.58s/it]\u001b[A\u001b[A\u001b[A\u001b[A\u001b[A\n",
            "\n",
            "\n",
            "\n",
            "\n",
            "Epoch 5 :: train Iteration 3/4 :: Loss 20 = 8.891881942749023:  50%|█████     | 5/10 [00:24<00:22,  4.58s/it]\u001b[A\u001b[A\u001b[A\u001b[A\u001b[A\n",
            "\n",
            "\n",
            "\n",
            "\n",
            "\n",
            "24it [00:00, 563.68it/s]\n",
            "\n",
            "\n",
            "\n",
            "\n",
            "\n",
            "\n",
            "24it [00:00, 954.42it/s]\n",
            "\n",
            "\n",
            "\n",
            "\n",
            "\n",
            "\n",
            "24it [00:00, 626.21it/s]\n",
            "\n",
            "\n",
            "\n",
            "\n",
            "\n",
            "\n",
            "24it [00:00, 830.99it/s]\n",
            "\n",
            "\n",
            "\n",
            "\n",
            "\n",
            "\n",
            "24it [00:00, 696.24it/s]\n",
            "\n",
            "\n",
            "\n",
            "\n",
            "\n",
            "\n",
            "24it [00:00, 858.80it/s]\n",
            "\n",
            "\n",
            "\n",
            "\n",
            "\n",
            "\n",
            "24it [00:00, 689.76it/s]\n",
            "\n",
            "\n",
            "\n",
            "\n",
            "\n",
            "\n",
            "24it [00:00, 1938.03it/s]\n",
            "\n",
            "\n",
            "\n",
            "\n",
            "\n",
            "Epoch 5 :: train Iteration 4/4 :: Loss 21 = 1.9182202816009521:  50%|█████     | 5/10 [00:27<00:22,  4.58s/it]\u001b[A\u001b[A\u001b[A\u001b[A\u001b[A\n",
            "\n",
            "\n",
            "\n",
            "\n",
            "Epoch 5 :: test Iteration 1/2 :: Loss 10 = 3.880927801132202:  50%|█████     | 5/10 [00:28<00:22,  4.58s/it]  \u001b[A\u001b[A\u001b[A\u001b[A\u001b[A\n",
            "\n",
            "\n",
            "\n",
            "\n",
            "\n",
            "12it [00:00, 912.02it/s]\n",
            "\n",
            "\n",
            "\n",
            "\n",
            "\n",
            "\n",
            "12it [00:00, 683.24it/s]\n",
            "\n",
            "\n",
            "\n",
            "\n",
            "\n",
            "\n",
            "12it [00:00, 521.80it/s]\n",
            "\n",
            "\n",
            "\n",
            "\n",
            "\n",
            "\n",
            "12it [00:00, 583.29it/s]\n",
            "\n",
            "\n",
            "\n",
            "\n",
            "\n",
            "\n",
            "12it [00:00, 417.53it/s]\n",
            "\n",
            "\n",
            "\n",
            "\n",
            "\n",
            "\n",
            "12it [00:00, 862.55it/s]\n",
            "\n",
            "\n",
            "\n",
            "\n",
            "\n",
            "\n",
            "12it [00:00, 709.12it/s]\n",
            "\n",
            "\n",
            "\n",
            "\n",
            "\n",
            "\n",
            "12it [00:00, 781.46it/s]\n",
            "\n",
            "\n",
            "\n",
            "\n",
            "\n",
            "Epoch 5 :: test Iteration 2/2 :: Loss 11 = 5.250481128692627:  50%|█████     | 5/10 [00:31<00:22,  4.58s/it]\u001b[A\u001b[A\u001b[A\u001b[A\u001b[A\n",
            "\n",
            "\n",
            "\n",
            "\n",
            "Epoch 5 :: test Iteration 2/2 :: Loss 11 = 5.250481128692627:  60%|██████    | 6/10 [00:32<00:23,  5.94s/it]\u001b[A\u001b[A\u001b[A\u001b[A\u001b[A\n",
            "\n",
            "\n",
            "\n",
            "\n",
            "Epoch 6 :: train Iteration 1/4 :: Loss 22 = 0.29138004779815674:  60%|██████    | 6/10 [00:33<00:23,  5.94s/it]\u001b[A\u001b[A\u001b[A\u001b[A\u001b[A\n",
            "\n",
            "\n",
            "\n",
            "\n",
            "Epoch 6 :: train Iteration 2/4 :: Loss 23 = 5.893755912780762:  60%|██████    | 6/10 [00:33<00:23,  5.94s/it]  \u001b[A\u001b[A\u001b[A\u001b[A\u001b[A\n",
            "\n",
            "\n",
            "\n",
            "\n",
            "Epoch 6 :: train Iteration 3/4 :: Loss 24 = 5.183669567108154:  60%|██████    | 6/10 [00:33<00:23,  5.94s/it]\u001b[A\u001b[A\u001b[A\u001b[A\u001b[A\n",
            "\n",
            "\n",
            "\n",
            "\n",
            "Epoch 6 :: train Iteration 4/4 :: Loss 25 = 5.671504020690918:  60%|██████    | 6/10 [00:33<00:23,  5.94s/it]\u001b[A\u001b[A\u001b[A\u001b[A\u001b[A"
          ],
          "name": "stderr"
        },
        {
          "output_type": "stream",
          "text": [
            "saving datasets...\n",
            "Datasets saved at ./datasets/3DShapePyBullet-datasetimgS64-shapes7-colors3-samples2/3d_shapes_pybullet_dataset.pickle\n"
          ],
          "name": "stdout"
        },
        {
          "output_type": "stream",
          "text": [
            "\n",
            "\n",
            "\n",
            "\n",
            "\n",
            "Epoch 6 :: test Iteration 1/2 :: Loss 12 = 11.505104064941406:  60%|██████    | 6/10 [00:34<00:23,  5.94s/it]\u001b[A\u001b[A\u001b[A\u001b[A\u001b[A\n",
            "\n",
            "\n",
            "\n",
            "\n",
            "Epoch 6 :: test Iteration 2/2 :: Loss 13 = 7.431888103485107:  60%|██████    | 6/10 [00:34<00:23,  5.94s/it] \u001b[A\u001b[A\u001b[A\u001b[A\u001b[A\n",
            "\n",
            "\n",
            "\n",
            "\n",
            "Epoch 6 :: test Iteration 2/2 :: Loss 13 = 7.431888103485107:  70%|███████   | 7/10 [00:34<00:14,  4.88s/it]\u001b[A\u001b[A\u001b[A\u001b[A\u001b[A\n",
            "\n",
            "\n",
            "\n",
            "\n",
            "Epoch 7 :: train Iteration 1/4 :: Loss 26 = 4.6026611328125:  70%|███████   | 7/10 [00:35<00:14,  4.88s/it] \u001b[A\u001b[A\u001b[A\u001b[A\u001b[A\n",
            "\n",
            "\n",
            "\n",
            "\n",
            "Epoch 7 :: train Iteration 2/4 :: Loss 27 = 9.835237503051758:  70%|███████   | 7/10 [00:35<00:14,  4.88s/it]\u001b[A\u001b[A\u001b[A\u001b[A\u001b[A\n",
            "\n",
            "\n",
            "\n",
            "\n",
            "Epoch 7 :: train Iteration 3/4 :: Loss 28 = 8.335830688476562:  70%|███████   | 7/10 [00:36<00:14,  4.88s/it]\u001b[A\u001b[A\u001b[A\u001b[A\u001b[A\n",
            "\n",
            "\n",
            "\n",
            "\n",
            "\n",
            "27it [00:00, 612.46it/s]\n",
            "\n",
            "\n",
            "\n",
            "\n",
            "\n",
            "\n",
            "27it [00:00, 976.82it/s]\n",
            "\n",
            "\n",
            "\n",
            "\n",
            "\n",
            "\n",
            "27it [00:00, 722.95it/s]\n",
            "\n",
            "\n",
            "\n",
            "\n",
            "\n",
            "\n",
            "27it [00:00, 919.00it/s]\n",
            "\n",
            "\n",
            "\n",
            "\n",
            "\n",
            "\n",
            "27it [00:00, 816.17it/s]\n",
            "\n",
            "\n",
            "\n",
            "\n",
            "\n",
            "\n",
            "27it [00:00, 842.15it/s]\n",
            "\n",
            "\n",
            "\n",
            "\n",
            "\n",
            "\n",
            "27it [00:00, 611.14it/s]\n",
            "\n",
            "\n",
            "\n",
            "\n",
            "\n",
            "\n",
            "27it [00:00, 1006.88it/s]\n",
            "\n",
            "\n",
            "\n",
            "\n",
            "\n",
            "Epoch 7 :: train Iteration 4/4 :: Loss 29 = 3.8980045318603516:  70%|███████   | 7/10 [00:39<00:14,  4.88s/it]\u001b[A\u001b[A\u001b[A\u001b[A\u001b[A\n",
            "\n",
            "\n",
            "\n",
            "\n",
            "Epoch 7 :: test Iteration 1/2 :: Loss 14 = 4.074544906616211:  70%|███████   | 7/10 [00:40<00:14,  4.88s/it]  \u001b[A\u001b[A\u001b[A\u001b[A\u001b[A\n",
            "\n",
            "\n",
            "\n",
            "\n",
            "\n",
            "11it [00:00, 734.80it/s]\n",
            "\n",
            "\n",
            "\n",
            "\n",
            "\n",
            "\n",
            "11it [00:00, 650.94it/s]\n",
            "\n",
            "\n",
            "\n",
            "\n",
            "\n",
            "\n",
            "11it [00:00, 888.54it/s]\n",
            "\n",
            "\n",
            "\n",
            "\n",
            "\n",
            "\n",
            "11it [00:00, 533.81it/s]\n",
            "\n",
            "\n",
            "\n",
            "\n",
            "\n",
            "\n",
            "11it [00:00, 563.45it/s]\n",
            "\n",
            "\n",
            "\n",
            "\n",
            "\n",
            "\n",
            "11it [00:00, 558.92it/s]\n",
            "\n",
            "\n",
            "\n",
            "\n",
            "\n",
            "\n",
            "11it [00:00, 477.09it/s]\n",
            "\n",
            "\n",
            "\n",
            "\n",
            "\n",
            "\n",
            "11it [00:00, 673.86it/s]\n",
            "\n",
            "\n",
            "\n",
            "\n",
            "\n",
            "Epoch 7 :: test Iteration 2/2 :: Loss 15 = 9.726449966430664:  70%|███████   | 7/10 [00:43<00:14,  4.88s/it]\u001b[A\u001b[A\u001b[A\u001b[A\u001b[A\n",
            "\n",
            "\n",
            "\n",
            "\n",
            "Epoch 7 :: test Iteration 2/2 :: Loss 15 = 9.726449966430664:  80%|████████  | 8/10 [00:43<00:12,  6.16s/it]\u001b[A\u001b[A\u001b[A\u001b[A\u001b[A\n",
            "\n",
            "\n",
            "\n",
            "\n",
            "Epoch 8 :: train Iteration 1/4 :: Loss 30 = 2.8582160472869873:  80%|████████  | 8/10 [00:44<00:12,  6.16s/it]\u001b[A\u001b[A\u001b[A\u001b[A\u001b[A\n",
            "\n",
            "\n",
            "\n",
            "\n",
            "Epoch 8 :: train Iteration 2/4 :: Loss 31 = 0.15626609325408936:  80%|████████  | 8/10 [00:45<00:12,  6.16s/it]\u001b[A\u001b[A\u001b[A\u001b[A\u001b[A\n",
            "\n",
            "\n",
            "\n",
            "\n",
            "Epoch 8 :: train Iteration 3/4 :: Loss 32 = 5.513493537902832:  80%|████████  | 8/10 [00:45<00:12,  6.16s/it]  \u001b[A\u001b[A\u001b[A\u001b[A\u001b[A\n",
            "\n",
            "\n",
            "\n",
            "\n",
            "Epoch 8 :: train Iteration 4/4 :: Loss 33 = 0.8990492820739746:  80%|████████  | 8/10 [00:45<00:12,  6.16s/it]\u001b[A\u001b[A\u001b[A\u001b[A\u001b[A\n",
            "\n",
            "\n",
            "\n",
            "\n",
            "Epoch 8 :: test Iteration 1/2 :: Loss 16 = 9.36187744140625:  80%|████████  | 8/10 [00:45<00:12,  6.16s/it]   \u001b[A\u001b[A\u001b[A\u001b[A\u001b[A\n",
            "\n",
            "\n",
            "\n",
            "\n",
            "Epoch 8 :: test Iteration 2/2 :: Loss 17 = 5.78309440612793:  80%|████████  | 8/10 [00:46<00:12,  6.16s/it]\u001b[A\u001b[A\u001b[A\u001b[A\u001b[A\n",
            "\n",
            "\n",
            "\n",
            "\n",
            "Epoch 8 :: test Iteration 2/2 :: Loss 17 = 5.78309440612793:  90%|█████████ | 9/10 [00:46<00:05,  5.01s/it]\u001b[A\u001b[A\u001b[A\u001b[A\u001b[A\n",
            "\n",
            "\n",
            "\n",
            "\n",
            "Epoch 9 :: train Iteration 1/4 :: Loss 34 = 2.867623805999756:  90%|█████████ | 9/10 [00:47<00:05,  5.01s/it]\u001b[A\u001b[A\u001b[A\u001b[A\u001b[A\n",
            "\n",
            "\n",
            "\n",
            "\n",
            "Epoch 9 :: train Iteration 2/4 :: Loss 35 = 4.487011432647705:  90%|█████████ | 9/10 [00:47<00:05,  5.01s/it]\u001b[A\u001b[A\u001b[A\u001b[A\u001b[A\n",
            "\n",
            "\n",
            "\n",
            "\n",
            "Epoch 9 :: train Iteration 3/4 :: Loss 36 = 6.4981560707092285:  90%|█████████ | 9/10 [00:47<00:05,  5.01s/it]\u001b[A\u001b[A\u001b[A\u001b[A\u001b[A\n",
            "\n",
            "\n",
            "\n",
            "\n",
            "\n",
            "25it [00:00, 574.84it/s]\n",
            "\n",
            "\n",
            "\n",
            "\n",
            "\n",
            "\n",
            "25it [00:00, 1074.71it/s]\n",
            "\n",
            "\n",
            "\n",
            "\n",
            "\n",
            "\n",
            "25it [00:00, 607.71it/s]\n",
            "\n",
            "\n",
            "\n",
            "\n",
            "\n",
            "\n",
            "25it [00:00, 910.20it/s]\n",
            "\n",
            "\n",
            "\n",
            "\n",
            "\n",
            "\n",
            "25it [00:00, 785.17it/s]\n",
            "\n",
            "\n",
            "\n",
            "\n",
            "\n",
            "\n",
            "25it [00:00, 984.01it/s]\n",
            "\n",
            "\n",
            "\n",
            "\n",
            "\n",
            "\n",
            "25it [00:00, 618.30it/s]\n",
            "\n",
            "\n",
            "\n",
            "\n",
            "\n",
            "\n",
            "25it [00:00, 952.47it/s]\n",
            "\n",
            "\n",
            "\n",
            "\n",
            "\n",
            "Epoch 9 :: train Iteration 4/4 :: Loss 37 = 7.071328639984131:  90%|█████████ | 9/10 [00:50<00:05,  5.01s/it] \u001b[A\u001b[A\u001b[A\u001b[A\u001b[A\n",
            "\n",
            "\n",
            "\n",
            "\n",
            "Epoch 9 :: test Iteration 1/2 :: Loss 18 = 7.684991359710693:  90%|█████████ | 9/10 [00:51<00:05,  5.01s/it] \u001b[A\u001b[A\u001b[A\u001b[A\u001b[A\n",
            "\n",
            "\n",
            "\n",
            "\n",
            "\n",
            "13it [00:00, 401.29it/s]\n",
            "\n",
            "\n",
            "\n",
            "\n",
            "\n",
            "\n",
            "0it [00:00, ?it/s]\u001b[A\u001b[A\u001b[A\u001b[A\u001b[A\u001b[A/content/ReferentialGym/ReferentialGym/utils/utils.py:148: RuntimeWarning: invalid value encountered in true_divide\n",
            "  cos_sim = np.matmul(v1/v1_norm,(v2/v2_norm).transpose())\n",
            "/content/ReferentialGym/ReferentialGym/utils/utils.py:148: RuntimeWarning: invalid value encountered in true_divide\n",
            "  cos_sim = np.matmul(v1/v1_norm,(v2/v2_norm).transpose())\n",
            "13it [00:00, 402.17it/s]\n",
            "\n",
            "\n",
            "\n",
            "\n",
            "\n",
            "\n",
            "13it [00:00, 638.22it/s]\n",
            "\n",
            "\n",
            "\n",
            "\n",
            "\n",
            "\n",
            "13it [00:00, 663.41it/s]\n",
            "\n",
            "\n",
            "\n",
            "\n",
            "\n",
            "\n",
            "13it [00:00, 677.16it/s]\n",
            "\n",
            "\n",
            "\n",
            "\n",
            "\n",
            "\n",
            "0it [00:00, ?it/s]\u001b[A\u001b[A\u001b[A\u001b[A\u001b[A\u001b[A/content/ReferentialGym/ReferentialGym/utils/utils.py:148: RuntimeWarning: invalid value encountered in true_divide\n",
            "  cos_sim = np.matmul(v1/v1_norm,(v2/v2_norm).transpose())\n",
            "/content/ReferentialGym/ReferentialGym/utils/utils.py:148: RuntimeWarning: invalid value encountered in true_divide\n",
            "  cos_sim = np.matmul(v1/v1_norm,(v2/v2_norm).transpose())\n",
            "13it [00:00, 535.51it/s]\n",
            "\n",
            "\n",
            "\n",
            "\n",
            "\n",
            "\n",
            "13it [00:00, 433.97it/s]\n",
            "\n",
            "\n",
            "\n",
            "\n",
            "\n",
            "\n",
            "13it [00:00, 417.50it/s]\n",
            "WARNING:root:NaN or Inf found in input tensor.\n",
            "WARNING:root:NaN or Inf found in input tensor.\n",
            "WARNING:root:NaN or Inf found in input tensor.\n",
            "WARNING:root:NaN or Inf found in input tensor.\n",
            "\n",
            "\n",
            "\n",
            "\n",
            "\n",
            "Epoch 9 :: test Iteration 2/2 :: Loss 19 = 4.733234405517578:  90%|█████████ | 9/10 [00:55<00:05,  5.01s/it]\u001b[A\u001b[A\u001b[A\u001b[A\u001b[A\n",
            "\n",
            "\n",
            "\n",
            "\n",
            "Epoch 9 :: test Iteration 2/2 :: Loss 19 = 4.733234405517578: 100%|██████████| 10/10 [00:55<00:00,  6.25s/it]\u001b[A\u001b[A\u001b[A\u001b[A\u001b[A\n",
            "\n",
            "\n",
            "\n",
            "\n",
            "Epoch 10 :: train Iteration 1/4 :: Loss 38 = 7.896696090698242: 100%|██████████| 10/10 [00:56<00:00,  6.25s/it]\u001b[A\u001b[A\u001b[A\u001b[A\u001b[A\n",
            "\n",
            "\n",
            "\n",
            "\n",
            "Epoch 10 :: train Iteration 2/4 :: Loss 39 = 0.5838403701782227: 100%|██████████| 10/10 [00:56<00:00,  6.25s/it]\u001b[A\u001b[A\u001b[A\u001b[A\u001b[A\n",
            "\n",
            "\n",
            "\n",
            "\n",
            "Epoch 10 :: train Iteration 3/4 :: Loss 40 = 7.289783954620361: 100%|██████████| 10/10 [00:56<00:00,  6.25s/it] \u001b[A\u001b[A\u001b[A\u001b[A\u001b[A\n",
            "\n",
            "\n",
            "\n",
            "\n",
            "Epoch 10 :: train Iteration 4/4 :: Loss 41 = 7.53508186340332: 100%|██████████| 10/10 [00:56<00:00,  6.25s/it] \u001b[A\u001b[A\u001b[A\u001b[A\u001b[A"
          ],
          "name": "stderr"
        },
        {
          "output_type": "stream",
          "text": [
            "saving datasets...\n",
            "Datasets saved at ./datasets/3DShapePyBullet-datasetimgS64-shapes7-colors3-samples2/3d_shapes_pybullet_dataset.pickle\n"
          ],
          "name": "stdout"
        },
        {
          "output_type": "stream",
          "text": [
            "\n",
            "\n",
            "\n",
            "\n",
            "\n",
            "Epoch 10 :: test Iteration 1/2 :: Loss 20 = 3.6507723331451416: 100%|██████████| 10/10 [00:57<00:00,  6.25s/it]\u001b[A\u001b[A\u001b[A\u001b[A\u001b[A\n",
            "\n",
            "\n",
            "\n",
            "\n",
            "Epoch 10 :: test Iteration 2/2 :: Loss 21 = 1.427573561668396: 100%|██████████| 10/10 [00:57<00:00,  6.25s/it] \u001b[A\u001b[A\u001b[A\u001b[A\u001b[A"
          ],
          "name": "stderr"
        }
      ]
    },
    {
      "cell_type": "markdown",
      "metadata": {
        "id": "9C7HnxCFvh8I"
      },
      "source": [
        "## Tensorboard:"
      ],
      "id": "9C7HnxCFvh8I"
    },
    {
      "cell_type": "code",
      "metadata": {
        "id": "EvYow3KNwvWm",
        "outputId": "d8c6a4a6-b8c8-41c4-e10f-a3af5395993f",
        "colab": {
          "base_uri": "https://localhost:8080/"
        }
      },
      "source": [
        "# Load the TensorBoard notebook extension\n",
        "%load_ext tensorboard\n",
        "#.notebook"
      ],
      "id": "EvYow3KNwvWm",
      "execution_count": 90,
      "outputs": [
        {
          "output_type": "stream",
          "text": [
            "The tensorboard extension is already loaded. To reload it, use:\n",
            "  %reload_ext tensorboard\n"
          ],
          "name": "stdout"
        }
      ]
    },
    {
      "cell_type": "code",
      "metadata": {
        "id": "rapid-volleyball",
        "outputId": "591004f8-31c4-4731-da22-d3d8bcba0684",
        "colab": {
          "base_uri": "https://localhost:8080/",
          "height": 838
        }
      },
      "source": [
        "%tensorboard --logdir ."
      ],
      "id": "rapid-volleyball",
      "execution_count": 91,
      "outputs": [
        {
          "output_type": "display_data",
          "data": {
            "text/plain": [
              "Reusing TensorBoard on port 6007 (pid 2941), started 0:03:23 ago. (Use '!kill 2941' to kill it.)"
            ]
          },
          "metadata": {
            "tags": []
          }
        },
        {
          "output_type": "display_data",
          "data": {
            "application/javascript": [
              "\n",
              "        (async () => {\n",
              "            const url = new URL(await google.colab.kernel.proxyPort(6007, {'cache': true}));\n",
              "            url.searchParams.set('tensorboardColab', 'true');\n",
              "            const iframe = document.createElement('iframe');\n",
              "            iframe.src = url;\n",
              "            iframe.setAttribute('width', '100%');\n",
              "            iframe.setAttribute('height', '800');\n",
              "            iframe.setAttribute('frameborder', 0);\n",
              "            document.body.appendChild(iframe);\n",
              "        })();\n",
              "    "
            ],
            "text/plain": [
              "<IPython.core.display.Javascript object>"
            ]
          },
          "metadata": {
            "tags": []
          }
        }
      ]
    },
    {
      "cell_type": "code",
      "metadata": {
        "id": "ko9qeSQHLrEh",
        "colab": {
          "base_uri": "https://localhost:8080/"
        },
        "outputId": "bee48b3a-7308-45c1-e00d-93fba5171088"
      },
      "source": [
        "from tensorboard import notebook\n",
        "notebook.list() # View open TensorBoard instances"
      ],
      "id": "ko9qeSQHLrEh",
      "execution_count": null,
      "outputs": [
        {
          "output_type": "stream",
          "text": [
            "Known TensorBoard instances:\n",
            "  - port 6006: logdir logs (started 0:00:30 ago; pid 117)\n"
          ],
          "name": "stdout"
        }
      ]
    },
    {
      "cell_type": "code",
      "metadata": {
        "id": "Twc_qO1yvoXw"
      },
      "source": [
        ""
      ],
      "id": "Twc_qO1yvoXw",
      "execution_count": null,
      "outputs": []
    },
    {
      "cell_type": "code",
      "metadata": {
        "id": "hzm9DNVILxJe",
        "colab": {
          "base_uri": "https://localhost:8080/",
          "height": 1000
        },
        "outputId": "1c142ad0-f066-4302-dfc8-1cf6e93638e0"
      },
      "source": [
        "# Control TensorBoard display. If no port is provided, \n",
        "# the most recently launched TensorBoard is used\n",
        "notebook.display(port=6006, height=1000) "
      ],
      "id": "hzm9DNVILxJe",
      "execution_count": null,
      "outputs": [
        {
          "output_type": "stream",
          "text": [
            "Selecting TensorBoard with logdir logs (started 0:00:33 ago; port 6006, pid 117).\n"
          ],
          "name": "stdout"
        },
        {
          "output_type": "display_data",
          "data": {
            "application/javascript": [
              "\n",
              "        (async () => {\n",
              "            const url = new URL(await google.colab.kernel.proxyPort(6006, {'cache': true}));\n",
              "            url.searchParams.set('tensorboardColab', 'true');\n",
              "            const iframe = document.createElement('iframe');\n",
              "            iframe.src = url;\n",
              "            iframe.setAttribute('width', '100%');\n",
              "            iframe.setAttribute('height', '1000');\n",
              "            iframe.setAttribute('frameborder', 0);\n",
              "            document.body.appendChild(iframe);\n",
              "        })();\n",
              "    "
            ],
            "text/plain": [
              "<IPython.core.display.Javascript object>"
            ]
          },
          "metadata": {
            "tags": []
          }
        }
      ]
    }
  ]
}